{
 "cells": [
  {
   "cell_type": "markdown",
   "id": "d31dea65",
   "metadata": {},
   "source": [
    "# CALIDAD DE DATOS"
   ]
  },
  {
   "cell_type": "markdown",
   "id": "swiss-fault",
   "metadata": {},
   "source": [
    "## IMPORTAR PAQUETES"
   ]
  },
  {
   "cell_type": "code",
   "execution_count": 1,
   "id": "adjacent-toddler",
   "metadata": {},
   "outputs": [],
   "source": [
    "import numpy as np\n",
    "import pandas as pd\n",
    "from janitor import clean_names\n",
    "\n",
    "#Automcompletar rápido\n",
    "%config IPCompleter.greedy=True\n",
    "\n",
    "#Desactivar notación científica\n",
    "pd.options.display.float_format = '{:,.2f}'.format"
   ]
  },
  {
   "cell_type": "markdown",
   "id": "graduate-compensation",
   "metadata": {},
   "source": [
    "## IMPORTAR LOS DATOS"
   ]
  },
  {
   "cell_type": "markdown",
   "id": "38bb812b",
   "metadata": {},
   "source": [
    "Sustituir la ruta del proyecto."
   ]
  },
  {
   "cell_type": "code",
   "execution_count": 2,
   "id": "28c63848",
   "metadata": {},
   "outputs": [],
   "source": [
    "ruta_proyecto = 'E:/alex/03_MACHINE_LEARNING/08_CASOS//03_SCORING RIESGOS'"
   ]
  },
  {
   "cell_type": "markdown",
   "id": "ba473b09",
   "metadata": {},
   "source": [
    "Sustituir el nombre_fichero_datos."
   ]
  },
  {
   "cell_type": "code",
   "execution_count": 3,
   "id": "5d9dc5ea",
   "metadata": {},
   "outputs": [],
   "source": [
    "nombre_fichero_datos = 'trabajo.csv'"
   ]
  },
  {
   "cell_type": "markdown",
   "id": "ae75bf0b",
   "metadata": {},
   "source": [
    "Cargar los datos."
   ]
  },
  {
   "cell_type": "code",
   "execution_count": 4,
   "id": "24ff453b",
   "metadata": {},
   "outputs": [
    {
     "data": {
      "text/html": [
       "<div>\n",
       "<style scoped>\n",
       "    .dataframe tbody tr th:only-of-type {\n",
       "        vertical-align: middle;\n",
       "    }\n",
       "\n",
       "    .dataframe tbody tr th {\n",
       "        vertical-align: top;\n",
       "    }\n",
       "\n",
       "    .dataframe thead th {\n",
       "        text-align: right;\n",
       "    }\n",
       "</style>\n",
       "<table border=\"1\" class=\"dataframe\">\n",
       "  <thead>\n",
       "    <tr style=\"text-align: right;\">\n",
       "      <th></th>\n",
       "      <th>Unnamed: 0</th>\n",
       "      <th>empleo</th>\n",
       "      <th>antigüedad_empleo</th>\n",
       "      <th>ingresos</th>\n",
       "      <th>ingresos_verificados</th>\n",
       "      <th>rating</th>\n",
       "      <th>dti</th>\n",
       "      <th>vivienda</th>\n",
       "      <th>num_hipotecas</th>\n",
       "      <th>num_lineas_credito</th>\n",
       "      <th>...</th>\n",
       "      <th>id_prestamo</th>\n",
       "      <th>descripcion</th>\n",
       "      <th>finalidad</th>\n",
       "      <th>principal</th>\n",
       "      <th>tipo_interes</th>\n",
       "      <th>num_cuotas</th>\n",
       "      <th>imp_cuota</th>\n",
       "      <th>imp_amortizado</th>\n",
       "      <th>estado</th>\n",
       "      <th>imp_recuperado</th>\n",
       "    </tr>\n",
       "    <tr>\n",
       "      <th>id_cliente</th>\n",
       "      <th></th>\n",
       "      <th></th>\n",
       "      <th></th>\n",
       "      <th></th>\n",
       "      <th></th>\n",
       "      <th></th>\n",
       "      <th></th>\n",
       "      <th></th>\n",
       "      <th></th>\n",
       "      <th></th>\n",
       "      <th></th>\n",
       "      <th></th>\n",
       "      <th></th>\n",
       "      <th></th>\n",
       "      <th></th>\n",
       "      <th></th>\n",
       "      <th></th>\n",
       "      <th></th>\n",
       "      <th></th>\n",
       "      <th></th>\n",
       "      <th></th>\n",
       "    </tr>\n",
       "  </thead>\n",
       "  <tbody>\n",
       "    <tr>\n",
       "      <th>137387967</th>\n",
       "      <td>0</td>\n",
       "      <td>Hvac technician</td>\n",
       "      <td>3 years</td>\n",
       "      <td>54,000.00</td>\n",
       "      <td>Source Verified</td>\n",
       "      <td>A</td>\n",
       "      <td>19.31</td>\n",
       "      <td>MORTGAGE</td>\n",
       "      <td>2.00</td>\n",
       "      <td>10.00</td>\n",
       "      <td>...</td>\n",
       "      <td>NaN</td>\n",
       "      <td>NaN</td>\n",
       "      <td>debt_consolidation</td>\n",
       "      <td>15,000.00</td>\n",
       "      <td>7.21</td>\n",
       "      <td>36 months</td>\n",
       "      <td>464.60</td>\n",
       "      <td>2,669.06</td>\n",
       "      <td>Current</td>\n",
       "      <td>0.00</td>\n",
       "    </tr>\n",
       "    <tr>\n",
       "      <th>4798121</th>\n",
       "      <td>1</td>\n",
       "      <td>Target Promotions and Marketing,Inc</td>\n",
       "      <td>10+ years</td>\n",
       "      <td>65,000.00</td>\n",
       "      <td>Not Verified</td>\n",
       "      <td>D</td>\n",
       "      <td>25.40</td>\n",
       "      <td>RENT</td>\n",
       "      <td>1.00</td>\n",
       "      <td>15.00</td>\n",
       "      <td>...</td>\n",
       "      <td>NaN</td>\n",
       "      <td>NaN</td>\n",
       "      <td>debt_consolidation</td>\n",
       "      <td>10,000.00</td>\n",
       "      <td>17.77</td>\n",
       "      <td>36 months</td>\n",
       "      <td>360.38</td>\n",
       "      <td>6,362.96</td>\n",
       "      <td>Charged Off</td>\n",
       "      <td>0.00</td>\n",
       "    </tr>\n",
       "    <tr>\n",
       "      <th>46641215</th>\n",
       "      <td>2</td>\n",
       "      <td>Banker</td>\n",
       "      <td>5 years</td>\n",
       "      <td>135,000.00</td>\n",
       "      <td>Verified</td>\n",
       "      <td>A</td>\n",
       "      <td>14.68</td>\n",
       "      <td>RENT</td>\n",
       "      <td>0.00</td>\n",
       "      <td>19.00</td>\n",
       "      <td>...</td>\n",
       "      <td>NaN</td>\n",
       "      <td>NaN</td>\n",
       "      <td>debt_consolidation</td>\n",
       "      <td>24,000.00</td>\n",
       "      <td>6.39</td>\n",
       "      <td>36 months</td>\n",
       "      <td>734.38</td>\n",
       "      <td>24,000.00</td>\n",
       "      <td>Fully Paid</td>\n",
       "      <td>0.00</td>\n",
       "    </tr>\n",
       "    <tr>\n",
       "      <th>87998444</th>\n",
       "      <td>3</td>\n",
       "      <td>executive director</td>\n",
       "      <td>9 years</td>\n",
       "      <td>188,000.00</td>\n",
       "      <td>Source Verified</td>\n",
       "      <td>B</td>\n",
       "      <td>11.69</td>\n",
       "      <td>MORTGAGE</td>\n",
       "      <td>3.00</td>\n",
       "      <td>15.00</td>\n",
       "      <td>...</td>\n",
       "      <td>NaN</td>\n",
       "      <td>NaN</td>\n",
       "      <td>credit_card</td>\n",
       "      <td>27,000.00</td>\n",
       "      <td>8.99</td>\n",
       "      <td>60 months</td>\n",
       "      <td>560.35</td>\n",
       "      <td>12,443.00</td>\n",
       "      <td>Current</td>\n",
       "      <td>0.00</td>\n",
       "    </tr>\n",
       "    <tr>\n",
       "      <th>132883631</th>\n",
       "      <td>4</td>\n",
       "      <td>Subsea Technician</td>\n",
       "      <td>7 years</td>\n",
       "      <td>125,000.00</td>\n",
       "      <td>Source Verified</td>\n",
       "      <td>B</td>\n",
       "      <td>9.00</td>\n",
       "      <td>MORTGAGE</td>\n",
       "      <td>1.00</td>\n",
       "      <td>6.00</td>\n",
       "      <td>...</td>\n",
       "      <td>NaN</td>\n",
       "      <td>NaN</td>\n",
       "      <td>debt_consolidation</td>\n",
       "      <td>22,000.00</td>\n",
       "      <td>10.90</td>\n",
       "      <td>36 months</td>\n",
       "      <td>719.22</td>\n",
       "      <td>22,000.00</td>\n",
       "      <td>Fully Paid</td>\n",
       "      <td>0.00</td>\n",
       "    </tr>\n",
       "    <tr>\n",
       "      <th>...</th>\n",
       "      <td>...</td>\n",
       "      <td>...</td>\n",
       "      <td>...</td>\n",
       "      <td>...</td>\n",
       "      <td>...</td>\n",
       "      <td>...</td>\n",
       "      <td>...</td>\n",
       "      <td>...</td>\n",
       "      <td>...</td>\n",
       "      <td>...</td>\n",
       "      <td>...</td>\n",
       "      <td>...</td>\n",
       "      <td>...</td>\n",
       "      <td>...</td>\n",
       "      <td>...</td>\n",
       "      <td>...</td>\n",
       "      <td>...</td>\n",
       "      <td>...</td>\n",
       "      <td>...</td>\n",
       "      <td>...</td>\n",
       "      <td>...</td>\n",
       "    </tr>\n",
       "    <tr>\n",
       "      <th>999338</th>\n",
       "      <td>199991</td>\n",
       "      <td>T. Rowe Price</td>\n",
       "      <td>4 years</td>\n",
       "      <td>55,000.00</td>\n",
       "      <td>Verified</td>\n",
       "      <td>B</td>\n",
       "      <td>29.26</td>\n",
       "      <td>RENT</td>\n",
       "      <td>NaN</td>\n",
       "      <td>7.00</td>\n",
       "      <td>...</td>\n",
       "      <td>NaN</td>\n",
       "      <td>Borrower added on 11/01/11 &gt; Looking to use ...</td>\n",
       "      <td>debt_consolidation</td>\n",
       "      <td>20,000.00</td>\n",
       "      <td>12.69</td>\n",
       "      <td>60 months</td>\n",
       "      <td>451.90</td>\n",
       "      <td>20,000.00</td>\n",
       "      <td>Fully Paid</td>\n",
       "      <td>0.00</td>\n",
       "    </tr>\n",
       "    <tr>\n",
       "      <th>73222117</th>\n",
       "      <td>199992</td>\n",
       "      <td>Executive Assistant</td>\n",
       "      <td>10+ years</td>\n",
       "      <td>85,000.00</td>\n",
       "      <td>Verified</td>\n",
       "      <td>B</td>\n",
       "      <td>33.05</td>\n",
       "      <td>RENT</td>\n",
       "      <td>1.00</td>\n",
       "      <td>25.00</td>\n",
       "      <td>...</td>\n",
       "      <td>NaN</td>\n",
       "      <td>NaN</td>\n",
       "      <td>debt_consolidation</td>\n",
       "      <td>3,000.00</td>\n",
       "      <td>9.75</td>\n",
       "      <td>36 months</td>\n",
       "      <td>96.45</td>\n",
       "      <td>3,000.00</td>\n",
       "      <td>Fully Paid</td>\n",
       "      <td>0.00</td>\n",
       "    </tr>\n",
       "    <tr>\n",
       "      <th>51876926</th>\n",
       "      <td>199995</td>\n",
       "      <td>Office Manager</td>\n",
       "      <td>10+ years</td>\n",
       "      <td>42,000.00</td>\n",
       "      <td>Not Verified</td>\n",
       "      <td>C</td>\n",
       "      <td>20.85</td>\n",
       "      <td>MORTGAGE</td>\n",
       "      <td>6.00</td>\n",
       "      <td>9.00</td>\n",
       "      <td>...</td>\n",
       "      <td>NaN</td>\n",
       "      <td>NaN</td>\n",
       "      <td>debt_consolidation</td>\n",
       "      <td>8,000.00</td>\n",
       "      <td>12.29</td>\n",
       "      <td>36 months</td>\n",
       "      <td>266.83</td>\n",
       "      <td>8,000.00</td>\n",
       "      <td>Fully Paid</td>\n",
       "      <td>0.00</td>\n",
       "    </tr>\n",
       "    <tr>\n",
       "      <th>53664762</th>\n",
       "      <td>199998</td>\n",
       "      <td>Attorney</td>\n",
       "      <td>8 years</td>\n",
       "      <td>168,000.00</td>\n",
       "      <td>Source Verified</td>\n",
       "      <td>E</td>\n",
       "      <td>4.69</td>\n",
       "      <td>RENT</td>\n",
       "      <td>0.00</td>\n",
       "      <td>8.00</td>\n",
       "      <td>...</td>\n",
       "      <td>NaN</td>\n",
       "      <td>NaN</td>\n",
       "      <td>small_business</td>\n",
       "      <td>30,050.00</td>\n",
       "      <td>18.25</td>\n",
       "      <td>60 months</td>\n",
       "      <td>767.17</td>\n",
       "      <td>2,964.44</td>\n",
       "      <td>Charged Off</td>\n",
       "      <td>2,750.88</td>\n",
       "    </tr>\n",
       "    <tr>\n",
       "      <th>94394801</th>\n",
       "      <td>199999</td>\n",
       "      <td>NaN</td>\n",
       "      <td>NaN</td>\n",
       "      <td>80,000.00</td>\n",
       "      <td>Not Verified</td>\n",
       "      <td>C</td>\n",
       "      <td>31.49</td>\n",
       "      <td>MORTGAGE</td>\n",
       "      <td>1.00</td>\n",
       "      <td>9.00</td>\n",
       "      <td>...</td>\n",
       "      <td>NaN</td>\n",
       "      <td>NaN</td>\n",
       "      <td>debt_consolidation</td>\n",
       "      <td>10,000.00</td>\n",
       "      <td>13.99</td>\n",
       "      <td>36 months</td>\n",
       "      <td>341.73</td>\n",
       "      <td>7,096.40</td>\n",
       "      <td>Current</td>\n",
       "      <td>0.00</td>\n",
       "    </tr>\n",
       "  </tbody>\n",
       "</table>\n",
       "<p>140000 rows × 25 columns</p>\n",
       "</div>"
      ],
      "text/plain": [
       "            Unnamed: 0                               empleo antigüedad_empleo  \\\n",
       "id_cliente                                                                      \n",
       "137387967            0                     Hvac technician            3 years   \n",
       "4798121              1  Target Promotions and Marketing,Inc         10+ years   \n",
       "46641215             2                               Banker           5 years   \n",
       "87998444             3                   executive director           9 years   \n",
       "132883631            4                    Subsea Technician           7 years   \n",
       "...                ...                                  ...               ...   \n",
       "999338          199991                        T. Rowe Price           4 years   \n",
       "73222117        199992                  Executive Assistant         10+ years   \n",
       "51876926        199995                       Office Manager         10+ years   \n",
       "53664762        199998                             Attorney           8 years   \n",
       "94394801        199999                                  NaN               NaN   \n",
       "\n",
       "             ingresos ingresos_verificados rating   dti  vivienda  \\\n",
       "id_cliente                                                          \n",
       "137387967   54,000.00      Source Verified      A 19.31  MORTGAGE   \n",
       "4798121     65,000.00         Not Verified      D 25.40      RENT   \n",
       "46641215   135,000.00             Verified      A 14.68      RENT   \n",
       "87998444   188,000.00      Source Verified      B 11.69  MORTGAGE   \n",
       "132883631  125,000.00      Source Verified      B  9.00  MORTGAGE   \n",
       "...               ...                  ...    ...   ...       ...   \n",
       "999338      55,000.00             Verified      B 29.26      RENT   \n",
       "73222117    85,000.00             Verified      B 33.05      RENT   \n",
       "51876926    42,000.00         Not Verified      C 20.85  MORTGAGE   \n",
       "53664762   168,000.00      Source Verified      E  4.69      RENT   \n",
       "94394801    80,000.00         Not Verified      C 31.49  MORTGAGE   \n",
       "\n",
       "            num_hipotecas  num_lineas_credito  ...  id_prestamo  \\\n",
       "id_cliente                                     ...                \n",
       "137387967            2.00               10.00  ...          NaN   \n",
       "4798121              1.00               15.00  ...          NaN   \n",
       "46641215             0.00               19.00  ...          NaN   \n",
       "87998444             3.00               15.00  ...          NaN   \n",
       "132883631            1.00                6.00  ...          NaN   \n",
       "...                   ...                 ...  ...          ...   \n",
       "999338                NaN                7.00  ...          NaN   \n",
       "73222117             1.00               25.00  ...          NaN   \n",
       "51876926             6.00                9.00  ...          NaN   \n",
       "53664762             0.00                8.00  ...          NaN   \n",
       "94394801             1.00                9.00  ...          NaN   \n",
       "\n",
       "                                                  descripcion  \\\n",
       "id_cliente                                                      \n",
       "137387967                                                 NaN   \n",
       "4798121                                                   NaN   \n",
       "46641215                                                  NaN   \n",
       "87998444                                                  NaN   \n",
       "132883631                                                 NaN   \n",
       "...                                                       ...   \n",
       "999338        Borrower added on 11/01/11 > Looking to use ...   \n",
       "73222117                                                  NaN   \n",
       "51876926                                                  NaN   \n",
       "53664762                                                  NaN   \n",
       "94394801                                                  NaN   \n",
       "\n",
       "                     finalidad  principal  tipo_interes  num_cuotas imp_cuota  \\\n",
       "id_cliente                                                                      \n",
       "137387967   debt_consolidation  15,000.00          7.21   36 months    464.60   \n",
       "4798121     debt_consolidation  10,000.00         17.77   36 months    360.38   \n",
       "46641215    debt_consolidation  24,000.00          6.39   36 months    734.38   \n",
       "87998444           credit_card  27,000.00          8.99   60 months    560.35   \n",
       "132883631   debt_consolidation  22,000.00         10.90   36 months    719.22   \n",
       "...                        ...        ...           ...         ...       ...   \n",
       "999338      debt_consolidation  20,000.00         12.69   60 months    451.90   \n",
       "73222117    debt_consolidation   3,000.00          9.75   36 months     96.45   \n",
       "51876926    debt_consolidation   8,000.00         12.29   36 months    266.83   \n",
       "53664762        small_business  30,050.00         18.25   60 months    767.17   \n",
       "94394801    debt_consolidation  10,000.00         13.99   36 months    341.73   \n",
       "\n",
       "           imp_amortizado       estado  imp_recuperado  \n",
       "id_cliente                                              \n",
       "137387967        2,669.06      Current            0.00  \n",
       "4798121          6,362.96  Charged Off            0.00  \n",
       "46641215        24,000.00   Fully Paid            0.00  \n",
       "87998444        12,443.00      Current            0.00  \n",
       "132883631       22,000.00   Fully Paid            0.00  \n",
       "...                   ...          ...             ...  \n",
       "999338          20,000.00   Fully Paid            0.00  \n",
       "73222117         3,000.00   Fully Paid            0.00  \n",
       "51876926         8,000.00   Fully Paid            0.00  \n",
       "53664762         2,964.44  Charged Off        2,750.88  \n",
       "94394801         7,096.40      Current            0.00  \n",
       "\n",
       "[140000 rows x 25 columns]"
      ]
     },
     "execution_count": 4,
     "metadata": {},
     "output_type": "execute_result"
    }
   ],
   "source": [
    "ruta_completa = ruta_proyecto + '/02_Datos/03_Trabajo/' + nombre_fichero_datos\n",
    "\n",
    "df = pd.read_csv(ruta_completa,index_col='id_cliente')\n",
    "df"
   ]
  },
  {
   "cell_type": "markdown",
   "id": "d2d5443c",
   "metadata": {},
   "source": [
    "## VISIÓN GENERAL"
   ]
  },
  {
   "cell_type": "code",
   "execution_count": 5,
   "id": "976c8ac6",
   "metadata": {
    "scrolled": false
   },
   "outputs": [
    {
     "name": "stdout",
     "output_type": "stream",
     "text": [
      "<class 'pandas.core.frame.DataFrame'>\n",
      "Int64Index: 140000 entries, 137387967 to 94394801\n",
      "Data columns (total 25 columns):\n",
      " #   Column                       Non-Null Count   Dtype  \n",
      "---  ------                       --------------   -----  \n",
      " 0   Unnamed: 0                   140000 non-null  int64  \n",
      " 1   empleo                       129693 non-null  object \n",
      " 2   antigüedad_empleo            130954 non-null  object \n",
      " 3   ingresos                     140000 non-null  float64\n",
      " 4   ingresos_verificados         140000 non-null  object \n",
      " 5   rating                       140000 non-null  object \n",
      " 6   dti                          139895 non-null  float64\n",
      " 7   vivienda                     140000 non-null  object \n",
      " 8   num_hipotecas                136900 non-null  float64\n",
      " 9   num_lineas_credito           139999 non-null  float64\n",
      " 10  porc_tarjetas_75p            135308 non-null  float64\n",
      " 11  porc_uso_revolving           139891 non-null  float64\n",
      " 12  num_cancelaciones_12meses    139993 non-null  float64\n",
      " 13  num_derogatorios             139999 non-null  float64\n",
      " 14  num_meses_desde_ult_retraso  68225 non-null   float64\n",
      " 15  id_prestamo                  0 non-null       float64\n",
      " 16  descripcion                  7773 non-null    object \n",
      " 17  finalidad                    140000 non-null  object \n",
      " 18  principal                    140000 non-null  float64\n",
      " 19  tipo_interes                 140000 non-null  float64\n",
      " 20  num_cuotas                   140000 non-null  object \n",
      " 21  imp_cuota                    140000 non-null  float64\n",
      " 22  imp_amortizado               140000 non-null  float64\n",
      " 23  estado                       140000 non-null  object \n",
      " 24  imp_recuperado               140000 non-null  float64\n",
      "dtypes: float64(15), int64(1), object(9)\n",
      "memory usage: 27.8+ MB\n"
     ]
    }
   ],
   "source": [
    "df.info()"
   ]
  },
  {
   "cell_type": "markdown",
   "id": "e96f1c4e",
   "metadata": {},
   "source": [
    "### Corrección"
   ]
  },
  {
   "cell_type": "markdown",
   "id": "dea3f8ac",
   "metadata": {},
   "source": [
    "Eliminar la variable Unnamed: 0"
   ]
  },
  {
   "cell_type": "code",
   "execution_count": 6,
   "id": "94cccc38",
   "metadata": {},
   "outputs": [],
   "source": [
    "df.drop(columns='Unnamed: 0',inplace=True)"
   ]
  },
  {
   "cell_type": "markdown",
   "id": "158ee1d7",
   "metadata": {},
   "source": [
    "## TIPOS DE DATOS"
   ]
  },
  {
   "cell_type": "markdown",
   "id": "88162727",
   "metadata": {},
   "source": [
    "### Identificación"
   ]
  },
  {
   "cell_type": "code",
   "execution_count": 8,
   "id": "197a99c2",
   "metadata": {
    "scrolled": false
   },
   "outputs": [
    {
     "data": {
      "text/plain": [
       "empleo                          object\n",
       "antigüedad_empleo               object\n",
       "ingresos                       float64\n",
       "ingresos_verificados            object\n",
       "rating                          object\n",
       "dti                            float64\n",
       "vivienda                        object\n",
       "num_hipotecas                  float64\n",
       "num_lineas_credito             float64\n",
       "porc_tarjetas_75p              float64\n",
       "porc_uso_revolving             float64\n",
       "num_cancelaciones_12meses      float64\n",
       "num_derogatorios               float64\n",
       "num_meses_desde_ult_retraso    float64\n",
       "id_prestamo                    float64\n",
       "descripcion                     object\n",
       "finalidad                       object\n",
       "principal                      float64\n",
       "tipo_interes                   float64\n",
       "num_cuotas                      object\n",
       "imp_cuota                      float64\n",
       "imp_amortizado                 float64\n",
       "estado                          object\n",
       "imp_recuperado                 float64\n",
       "dtype: object"
      ]
     },
     "execution_count": 8,
     "metadata": {},
     "output_type": "execute_result"
    }
   ],
   "source": [
    "df.dtypes"
   ]
  },
  {
   "cell_type": "markdown",
   "id": "f29bc3fb",
   "metadata": {},
   "source": [
    "Conclusiones:\n",
    "\n",
    "* Todo correcto en cuanto a tipo de datos"
   ]
  },
  {
   "cell_type": "markdown",
   "id": "cc8d4a22",
   "metadata": {},
   "source": [
    "## VALORES ÚNICOS"
   ]
  },
  {
   "cell_type": "markdown",
   "id": "f21f0e36",
   "metadata": {},
   "source": [
    "### Identificación"
   ]
  },
  {
   "cell_type": "code",
   "execution_count": 14,
   "id": "6e53e444",
   "metadata": {
    "scrolled": false
   },
   "outputs": [
    {
     "data": {
      "text/plain": [
       "id_prestamo                        0\n",
       "num_cuotas                         2\n",
       "ingresos_verificados               3\n",
       "vivienda                           6\n",
       "num_cancelaciones_12meses          7\n",
       "rating                             7\n",
       "estado                             9\n",
       "antigüedad_empleo                 11\n",
       "finalidad                         14\n",
       "num_derogatorios                  20\n",
       "num_hipotecas                     24\n",
       "num_lineas_credito                61\n",
       "num_meses_desde_ult_retraso      132\n",
       "porc_tarjetas_75p                165\n",
       "tipo_interes                     580\n",
       "porc_uso_revolving              1102\n",
       "principal                       1471\n",
       "dti                             5309\n",
       "descripcion                     7747\n",
       "imp_recuperado                 10666\n",
       "ingresos                       11659\n",
       "imp_cuota                      33599\n",
       "empleo                         54492\n",
       "imp_amortizado                 57818\n",
       "dtype: int64"
      ]
     },
     "execution_count": 14,
     "metadata": {},
     "output_type": "execute_result"
    }
   ],
   "source": [
    "df.nunique().sort_values()"
   ]
  },
  {
   "cell_type": "markdown",
   "id": "a1106594",
   "metadata": {},
   "source": [
    "Conclusiones:\n",
    "\n",
    "* id_prestamo con menos de 2 valores --> eliminar"
   ]
  },
  {
   "cell_type": "markdown",
   "id": "b1d1a668",
   "metadata": {},
   "source": [
    "### Corrección"
   ]
  },
  {
   "cell_type": "code",
   "execution_count": 18,
   "id": "62f7d14e",
   "metadata": {},
   "outputs": [],
   "source": [
    "df.drop(columns = 'id_prestamo', inplace = True)"
   ]
  },
  {
   "cell_type": "markdown",
   "id": "e25cfc89",
   "metadata": {},
   "source": [
    "## DUPLICADOS"
   ]
  },
  {
   "cell_type": "markdown",
   "id": "8a079ed3",
   "metadata": {},
   "source": [
    "### Identificación"
   ]
  },
  {
   "cell_type": "code",
   "execution_count": 19,
   "id": "f5b23bfc",
   "metadata": {
    "scrolled": true
   },
   "outputs": [
    {
     "data": {
      "text/plain": [
       "0"
      ]
     },
     "execution_count": 19,
     "metadata": {},
     "output_type": "execute_result"
    }
   ],
   "source": [
    "df.duplicated().sum()"
   ]
  },
  {
   "cell_type": "markdown",
   "id": "632ec2cd",
   "metadata": {},
   "source": [
    "## SEPARAR NUMÉRICAS Y CATEGÓRICAS"
   ]
  },
  {
   "cell_type": "markdown",
   "id": "573a61ac",
   "metadata": {},
   "source": [
    "### Categóricas"
   ]
  },
  {
   "cell_type": "code",
   "execution_count": 11,
   "id": "47a7eece",
   "metadata": {},
   "outputs": [],
   "source": [
    "cat = df.select_dtypes(exclude = 'number').copy()"
   ]
  },
  {
   "cell_type": "markdown",
   "id": "41756893",
   "metadata": {},
   "source": [
    "### Numéricas"
   ]
  },
  {
   "cell_type": "code",
   "execution_count": 12,
   "id": "59140e9a",
   "metadata": {},
   "outputs": [],
   "source": [
    "num = df.select_dtypes(include='number').copy()"
   ]
  },
  {
   "cell_type": "markdown",
   "id": "5e7d8e7e",
   "metadata": {},
   "source": [
    "## GESTIÓN DE CATEGÓRICAS"
   ]
  },
  {
   "cell_type": "markdown",
   "id": "5b5808b7",
   "metadata": {},
   "source": [
    "### Nulos"
   ]
  },
  {
   "cell_type": "markdown",
   "id": "5c08ca55",
   "metadata": {},
   "source": [
    "#### Identificación"
   ]
  },
  {
   "cell_type": "code",
   "execution_count": 22,
   "id": "da49ae63",
   "metadata": {
    "scrolled": true
   },
   "outputs": [
    {
     "data": {
      "text/plain": [
       "descripcion             132227\n",
       "empleo                   10307\n",
       "antigüedad_empleo         9046\n",
       "ingresos_verificados         0\n",
       "rating                       0\n",
       "vivienda                     0\n",
       "finalidad                    0\n",
       "num_cuotas                   0\n",
       "estado                       0\n",
       "dtype: int64"
      ]
     },
     "execution_count": 22,
     "metadata": {},
     "output_type": "execute_result"
    }
   ],
   "source": [
    "cat.isna().sum().sort_values(ascending = False)"
   ]
  },
  {
   "cell_type": "code",
   "execution_count": 23,
   "id": "b95992ce",
   "metadata": {},
   "outputs": [
    {
     "data": {
      "text/plain": [
       "NaN                                                                                                                                                                                                                                                                                                                                                                                                                                                                                                                                                                                                                                                                                                                                                                                                                                                                                                                                                                                                                                                                                                                                        132227\n",
       "                                                                                                                                                                                                                                                                                                                                                                                                                                                                                                                                                                                                                                                                                                                                                                                                                                                                                                                                                                                                                                                                                                                                               13\n",
       "  Borrower added on 10/07/13 > Debt consolidation<br>                                                                                                                                                                                                                                                                                                                                                                                                                                                                                                                                                                                                                                                                                                                                                                                                                                                                                                                                                                                                                                                                                           2\n",
       "Debt Consolidation                                                                                                                                                                                                                                                                                                                                                                                                                                                                                                                                                                                                                                                                                                                                                                                                                                                                                                                                                                                                                                                                                                                              2\n",
       "  Borrower added on 06/21/13 > Debt consolidation<br>                                                                                                                                                                                                                                                                                                                                                                                                                                                                                                                                                                                                                                                                                                                                                                                                                                                                                                                                                                                                                                                                                           2\n",
       "                                                                                                                                                                                                                                                                                                                                                                                                                                                                                                                                                                                                                                                                                                                                                                                                                                                                                                                                                                                                                                                                                                                                            ...  \n",
       "  Borrower added on 10/17/13 > To help pay off credit cards<br>                                                                                                                                                                                                                                                                                                                                                                                                                                                                                                                                                                                                                                                                                                                                                                                                                                                                                                                                                                                                                                                                                 1\n",
       "  Borrower added on 04/30/10 > My husband had a stroke in 2008. During this time, I missed a house payment.  I payed it online.  While doing bills, I took the amount out of the checkbook, but never went on line to make the payment. That is where the missed payment on the credit history comes from.<br/>We lost about $40,000.00 a year income due to my husbandâs health in 2007.  He is now on social security disability.  Although he is only 40 years old, he has had numerous health issues. The public record is from a Chapter 7 medical in 2000.  <br/>The loan will pay off all credit card accounts except for one with a $4000.00 balance.  Due to high cobra premiums ($487-1100.00 per month over the last two years), we have relied heavily on credit. My husband will now be on medicare with a supplemental policy beginning in June.<br/>The reason for debt pay off is that we have one child currently in college and another one starting in two years.  I would like all credit card debt gone by the time the second one enters college because there is another son entering one year after him.<br/>         1\n",
       "I want to sell my motorcycle.  Problem is, my current loan is non-transferable, and until the balance is paid off the title will not be released.  I don't have much (if any) selling power with a vehicle without a title.  The bank will release the title to me within 12 buisness days once the balance is paid off in full, hence the $7000 requested loan amount.  As soon as the requested amount is in my possesion, my motorcycle will be up for sale.  Upon selling the bike I intend to recieve the full amount of the loan +/- $500.  That's the long and short of it.  Thanks.                                                                                                                                                                                                                                                                                                                                                                                                                                                                                                                                                     1\n",
       "  Borrower added on 10/02/10 > i very much need this loan to fix window problems i have in my new home.<br/> Borrower added on 10/03/10 > the home is over 50 years old. Well taken care of but needs some TLC in some areas. I am short on funds right now, but need the get some windows repaired fro the coming winter. I have a steady job.<br/>                                                                                                                                                                                                                                                                                                                                                                                                                                                                                                                                                                                                                                                                                                                                                                                            1\n",
       "  Borrower added on 11/01/11 > Looking to use this loan to repay my large credit card debits.  I have always paid all of my debt payments on time, and am trying to get out from underneath all of this credit card debt now.  I have an extremely safe job as I work for a very conservative international mutual fund company, which I have been employed by for 5 years now.  Please let me know if you would like any further information about this loan.<br/><br/>Thanks!<br/>                                                                                                                                                                                                                                                                                                                                                                                                                                                                                                                                                                                                                                                            1\n",
       "Name: descripcion, Length: 7753, dtype: int64"
      ]
     },
     "execution_count": 23,
     "metadata": {},
     "output_type": "execute_result"
    }
   ],
   "source": [
    "cat.descripcion.value_counts(dropna=False)"
   ]
  },
  {
   "cell_type": "code",
   "execution_count": 24,
   "id": "d3b9f1e7",
   "metadata": {},
   "outputs": [
    {
     "data": {
      "text/plain": [
       "NaN                             10307\n",
       "Teacher                          2457\n",
       "Manager                          2201\n",
       "Owner                            1359\n",
       "Registered Nurse                 1011\n",
       "                                ...  \n",
       "HST                                 1\n",
       "Clinical Nurse                      1\n",
       "Parademic                           1\n",
       "IT HelpDesk Manager                 1\n",
       "Immigration Senior Paralegal        1\n",
       "Name: empleo, Length: 54558, dtype: int64"
      ]
     },
     "execution_count": 24,
     "metadata": {},
     "output_type": "execute_result"
    }
   ],
   "source": [
    "cat.empleo.value_counts(dropna=False)"
   ]
  },
  {
   "cell_type": "code",
   "execution_count": 25,
   "id": "cac1218b",
   "metadata": {},
   "outputs": [
    {
     "data": {
      "text/plain": [
       "10+ years    46191\n",
       "2 years      12646\n",
       "< 1 year     11835\n",
       "3 years      11256\n",
       "1 year        9120\n",
       "NaN           9046\n",
       "5 years       8760\n",
       "4 years       8445\n",
       "6 years       6235\n",
       "7 years       5782\n",
       "8 years       5776\n",
       "9 years       4908\n",
       "Name: antigüedad_empleo, dtype: int64"
      ]
     },
     "execution_count": 25,
     "metadata": {},
     "output_type": "execute_result"
    }
   ],
   "source": [
    "cat.antigüedad_empleo.value_counts(dropna=False)"
   ]
  },
  {
   "cell_type": "markdown",
   "id": "45ca2193",
   "metadata": {},
   "source": [
    "Conclusiones:\n",
    "\n",
    "* sustituir todas por valor 'desconocido'"
   ]
  },
  {
   "cell_type": "markdown",
   "id": "6802d575",
   "metadata": {},
   "source": [
    "#### Corrección"
   ]
  },
  {
   "cell_type": "markdown",
   "id": "ebeb52a6",
   "metadata": {},
   "source": [
    "##### Imputar por un valor"
   ]
  },
  {
   "cell_type": "markdown",
   "id": "2cba1c3c",
   "metadata": {},
   "source": [
    "###### Variables a imputar"
   ]
  },
  {
   "cell_type": "code",
   "execution_count": 26,
   "id": "4050ef9f",
   "metadata": {},
   "outputs": [],
   "source": [
    "var_imputar_desconocido = ['descripcion','empleo','antigüedad_empleo']"
   ]
  },
  {
   "cell_type": "markdown",
   "id": "78d10252",
   "metadata": {},
   "source": [
    "###### Imputar"
   ]
  },
  {
   "cell_type": "code",
   "execution_count": 27,
   "id": "f16e8491",
   "metadata": {},
   "outputs": [],
   "source": [
    "cat[var_imputar_desconocido] = cat[var_imputar_desconocido].fillna('desconocido')"
   ]
  },
  {
   "cell_type": "markdown",
   "id": "db3a72a6",
   "metadata": {},
   "source": [
    "## GESTIÓN DE NUMÉRICAS"
   ]
  },
  {
   "cell_type": "markdown",
   "id": "d65bd06a",
   "metadata": {},
   "source": [
    "### Nulos"
   ]
  },
  {
   "cell_type": "markdown",
   "id": "e5ee8416",
   "metadata": {},
   "source": [
    "#### Identificación"
   ]
  },
  {
   "cell_type": "code",
   "execution_count": 26,
   "id": "c9f054a3",
   "metadata": {
    "scrolled": true
   },
   "outputs": [
    {
     "data": {
      "text/plain": [
       "num_meses_desde_ult_retraso    71800\n",
       "porc_tarjetas_75p               4638\n",
       "num_hipotecas                   3081\n",
       "porc_uso_revolving               115\n",
       "dti                              108\n",
       "num_cancelaciones_12meses          7\n",
       "num_lineas_credito                 2\n",
       "num_derogatorios                   2\n",
       "ingresos                           0\n",
       "principal                          0\n",
       "tipo_interes                       0\n",
       "imp_cuota                          0\n",
       "imp_amortizado                     0\n",
       "imp_recuperado                     0\n",
       "dtype: int64"
      ]
     },
     "execution_count": 26,
     "metadata": {},
     "output_type": "execute_result"
    }
   ],
   "source": [
    "num.isna().sum().sort_values(ascending = False)"
   ]
  },
  {
   "cell_type": "markdown",
   "id": "a043a2e8",
   "metadata": {},
   "source": [
    "Veamoslas con más detalle."
   ]
  },
  {
   "cell_type": "code",
   "execution_count": 27,
   "id": "aa5112af",
   "metadata": {},
   "outputs": [
    {
     "data": {
      "image/png": "[encoded data removed]",
      "text/plain": [
       "<Figure size 864x432 with 1 Axes>"
      ]
     },
     "metadata": {
      "needs_background": "light"
     },
     "output_type": "display_data"
    }
   ],
   "source": [
    "num.num_meses_desde_ult_retraso.value_counts().sort_index().plot.bar(figsize = (12,6));"
   ]
  },
  {
   "cell_type": "markdown",
   "id": "7e2ff55b",
   "metadata": {},
   "source": [
    "Hay ceros, pero parecen pocos para una variable que implica retrasos.\n",
    "\n",
    "Así que vamos a pensar que los nulos significan que no ha habido retrasos.\n",
    "\n",
    "Y por tanto imputar por ceros."
   ]
  },
  {
   "cell_type": "code",
   "execution_count": 34,
   "id": "2873ee93",
   "metadata": {},
   "outputs": [
    {
     "data": {
      "image/png": "[encoded data removed]",
      "text/plain": [
       "<Figure size 864x432 with 1 Axes>"
      ]
     },
     "metadata": {
      "needs_background": "light"
     },
     "output_type": "display_data"
    }
   ],
   "source": [
    "num.porc_tarjetas_75p.value_counts().sort_index().plot.bar(figsize = (12,6));"
   ]
  },
  {
   "cell_type": "markdown",
   "id": "1bff94a6",
   "metadata": {},
   "source": [
    "La categoría mayoritaria es cero.\n",
    "\n",
    "Imputaremos por cero."
   ]
  },
  {
   "cell_type": "code",
   "execution_count": 35,
   "id": "e0bb1a4a",
   "metadata": {},
   "outputs": [
    {
     "data": {
      "image/png": "[encoded data removed]",
      "text/plain": [
       "<Figure size 864x432 with 1 Axes>"
      ]
     },
     "metadata": {
      "needs_background": "light"
     },
     "output_type": "display_data"
    }
   ],
   "source": [
    "num.num_hipotecas.value_counts().sort_index().plot.bar(figsize = (12,6));"
   ]
  },
  {
   "cell_type": "code",
   "execution_count": 20,
   "id": "a0d616d6",
   "metadata": {},
   "outputs": [
    {
     "data": {
      "text/plain": [
       "0.00      817\n",
       "0.10       96\n",
       "0.20       80\n",
       "0.30       80\n",
       "0.40       85\n",
       "         ... \n",
       "126.60      1\n",
       "155.30      1\n",
       "158.70      1\n",
       "184.60      1\n",
       "366.60      1\n",
       "Name: porc_uso_revolving, Length: 1095, dtype: int64"
      ]
     },
     "execution_count": 20,
     "metadata": {},
     "output_type": "execute_result"
    }
   ],
   "source": [
    "num.porc_uso_revolving.value_counts().sort_index()"
   ]
  },
  {
   "cell_type": "code",
   "execution_count": 22,
   "id": "7d65ef24",
   "metadata": {},
   "outputs": [
    {
     "data": {
      "text/plain": [
       "-1.00       1\n",
       "0.00      117\n",
       "0.01        1\n",
       "0.02        1\n",
       "0.04        2\n",
       "         ... \n",
       "564.00      1\n",
       "580.20      1\n",
       "756.46      1\n",
       "819.96      1\n",
       "999.00      8\n",
       "Name: dti, Length: 5302, dtype: int64"
      ]
     },
     "execution_count": 22,
     "metadata": {},
     "output_type": "execute_result"
    }
   ],
   "source": [
    "num.dti.value_counts().sort_index()"
   ]
  },
  {
   "cell_type": "markdown",
   "id": "d0269d6c",
   "metadata": {},
   "source": [
    "La categoría mayoritaria es cero.\n",
    "\n",
    "Imputaremos por cero."
   ]
  },
  {
   "cell_type": "markdown",
   "id": "750b3940",
   "metadata": {},
   "source": [
    "Conclusiones:\n",
    "\n",
    "* imputar todas por ceros"
   ]
  },
  {
   "cell_type": "markdown",
   "id": "562eea7f",
   "metadata": {},
   "source": [
    "#### Corrección"
   ]
  },
  {
   "cell_type": "code",
   "execution_count": 36,
   "id": "37d7e0d9",
   "metadata": {},
   "outputs": [],
   "source": [
    "num.fillna(0,inplace=True)"
   ]
  },
  {
   "cell_type": "markdown",
   "id": "82cb56e8",
   "metadata": {},
   "source": [
    "### Atípicos"
   ]
  },
  {
   "cell_type": "markdown",
   "id": "760baf8c",
   "metadata": {},
   "source": [
    "#### Por desviación típica"
   ]
  },
  {
   "cell_type": "markdown",
   "id": "4b508149",
   "metadata": {},
   "source": [
    "##### Identificación"
   ]
  },
  {
   "cell_type": "markdown",
   "id": "8ceda3d3",
   "metadata": {},
   "source": [
    "###### Definir el número de desviaciones típicas"
   ]
  },
  {
   "cell_type": "code",
   "execution_count": 37,
   "id": "2b7419cb",
   "metadata": {},
   "outputs": [],
   "source": [
    "num_desv_tip = 4"
   ]
  },
  {
   "cell_type": "markdown",
   "id": "942da237",
   "metadata": {},
   "source": [
    "###### Función que devuelve los índices de los atípicos"
   ]
  },
  {
   "cell_type": "code",
   "execution_count": 38,
   "id": "8a81f494",
   "metadata": {},
   "outputs": [],
   "source": [
    "def atipicos_desv_tip(variable, num_desv_tip = 4):\n",
    "    #sacamos los nulos por ahora\n",
    "    variable = variable.dropna()\n",
    "    #calculamos los límites\n",
    "    media = np.mean(variable)\n",
    "    sd = np.std(variable)\n",
    "    umbral = sd * num_desv_tip\n",
    "    lim_inf = media - umbral\n",
    "    lim_sup = media + umbral\n",
    "    #encontramos los índices de los que están fuera de los límites\n",
    "    indices = [indice for indice,valor in variable.items() if valor < lim_inf or valor > lim_sup]\n",
    "    return(indices)"
   ]
  },
  {
   "cell_type": "markdown",
   "id": "768e7398",
   "metadata": {},
   "source": [
    "###### Función que cuenta el número de atípicos"
   ]
  },
  {
   "cell_type": "code",
   "execution_count": 39,
   "id": "5c8f4462",
   "metadata": {},
   "outputs": [],
   "source": [
    "def conteo_atipicos(df,variable, num_desv_tip = 4):\n",
    "    atipicos = atipicos_desv_tip(df[variable], num_desv_tip)\n",
    "    return(df.loc[atipicos,variable].value_counts().sort_index())"
   ]
  },
  {
   "cell_type": "markdown",
   "id": "5cd1e425",
   "metadata": {},
   "source": [
    "###### Variables a aplicar"
   ]
  },
  {
   "cell_type": "code",
   "execution_count": 40,
   "id": "cfbb3d88",
   "metadata": {},
   "outputs": [],
   "source": [
    "var_atipicos_dt = ['ingresos','principal','imp_cuota','imp_recuperado']"
   ]
  },
  {
   "cell_type": "markdown",
   "id": "ac400ced",
   "metadata": {},
   "source": [
    "###### Aplicar"
   ]
  },
  {
   "cell_type": "code",
   "execution_count": 41,
   "id": "c4b74e98",
   "metadata": {},
   "outputs": [
    {
     "name": "stdout",
     "output_type": "stream",
     "text": [
      "\n",
      "ingresos:\n",
      "\n",
      "420,000.00       8\n",
      "422,000.00       1\n",
      "422,550.00       1\n",
      "423,000.00       1\n",
      "424,000.00       2\n",
      "                ..\n",
      "7,845,315.00     1\n",
      "8,500,000.00     1\n",
      "8,500,021.00     1\n",
      "9,550,000.00     1\n",
      "10,999,200.00    1\n",
      "Name: ingresos, Length: 143, dtype: int64\n",
      "\n",
      "principal:\n",
      "\n",
      "Series([], Name: principal, dtype: int64)\n",
      "\n",
      "imp_cuota:\n",
      "\n",
      "1,516.27    2\n",
      "1,587.02    1\n",
      "1,607.80    1\n",
      "1,714.54    1\n",
      "Name: imp_cuota, dtype: int64\n",
      "\n",
      "imp_recuperado:\n",
      "\n",
      "3,231.13     1\n",
      "3,231.66     1\n",
      "3,231.98     1\n",
      "3,232.41     1\n",
      "3,233.33     1\n",
      "            ..\n",
      "26,172.99    1\n",
      "27,478.64    1\n",
      "27,657.68    1\n",
      "33,407.16    1\n",
      "33,666.34    1\n",
      "Name: imp_recuperado, Length: 1582, dtype: int64\n"
     ]
    }
   ],
   "source": [
    "for variable in var_atipicos_dt:\n",
    "    print('\\n' + variable + ':\\n')\n",
    "    print(conteo_atipicos(num,variable,num_desv_tip))"
   ]
  },
  {
   "cell_type": "markdown",
   "id": "5beaeba9",
   "metadata": {},
   "source": [
    "Revisamos con más detalle la variable ingresos."
   ]
  },
  {
   "cell_type": "code",
   "execution_count": 45,
   "id": "0b1c7eb8",
   "metadata": {},
   "outputs": [
    {
     "data": {
      "text/plain": [
       "count      140,000.00\n",
       "mean        78,185.50\n",
       "std         84,341.87\n",
       "min              0.00\n",
       "25%         46,000.00\n",
       "50%         65,000.00\n",
       "75%         93,463.00\n",
       "max     10,999,200.00\n",
       "Name: ingresos, dtype: float64"
      ]
     },
     "execution_count": 45,
     "metadata": {},
     "output_type": "execute_result"
    }
   ],
   "source": [
    "num.ingresos.describe()"
   ]
  },
  {
   "cell_type": "markdown",
   "id": "5197aae9",
   "metadata": {},
   "source": [
    "##### Corrección"
   ]
  },
  {
   "cell_type": "markdown",
   "id": "2b9255dd",
   "metadata": {},
   "source": [
    "Eliminar los registros con ingresos superiores a 300.000$"
   ]
  },
  {
   "cell_type": "markdown",
   "id": "e1233b46",
   "metadata": {},
   "source": [
    "*Cuidado: Si se eliminan registros hay que eliminarlos tanto de cat como de num*"
   ]
  },
  {
   "cell_type": "markdown",
   "id": "18548d6d",
   "metadata": {},
   "source": [
    "###### Id de registros a eliminar"
   ]
  },
  {
   "cell_type": "code",
   "execution_count": 51,
   "id": "7d1c1e81",
   "metadata": {
    "scrolled": true
   },
   "outputs": [
    {
     "data": {
      "text/plain": [
       "array([115087816,  30115373,  88149047,  58654033,  96702950,  70180828,\n",
       "       128295694,  57316403,  75468055,  55380417,  68355962,  59101444,\n",
       "        74703269,  26329813, 101561119, 114093587, 121891976,  70701688,\n",
       "        91162705,  69967314,  69127903, 134144676,  79015002,  33371205,\n",
       "        88195703, 114793732, 115048244,   9746316,  89794872,  93634763,\n",
       "        75358546,  65038134,  70592833,  77517938,  93092543,  91131807,\n",
       "          489907,  57074442, 133401013,  60831304,  40942257,  79492925,\n",
       "       115085050,   3630153,  79390430, 141591423,  67427919,  92659557,\n",
       "       138925364, 125219862,  88921166,  65087421,  18895853, 109743090,\n",
       "       131383380, 109322909,  92035926,  60873988,  12938159, 107355068,\n",
       "       104110402,  65795964,  59242936, 132251779,   4044958, 134479546,\n",
       "       134323203, 104319520, 145242693,   2367546,  96979795,    620850,\n",
       "        40385541,  74585468, 143147174, 124877413, 125330617, 122347658,\n",
       "       140598256, 103337282,   1533286,   2092000, 145550896, 145349679,\n",
       "        10105445,  57206063,    572578, 135802748,  74523571, 114427471,\n",
       "        46808563, 109005497, 141424441, 130398061,  88763639,  51898166,\n",
       "       130368292,  56934450,  14530758,  93960404, 135369591, 119238056,\n",
       "       140851137, 143570470,   6708897,  91946592,  51195674,  98197574,\n",
       "       127980829,  75768580, 139257255, 120091603,  77685207, 101402707,\n",
       "        44796469, 134144026, 139043081,  81180268,  93820307, 144884757,\n",
       "       127844526,  94413951,  77815438, 104092211,  12596976,  50053165,\n",
       "       117716248,   5648222, 134742400,  88138821,  44389210,   9775633,\n",
       "       144541752, 134387430,   2084601, 133534237,   4305549,  75447714,\n",
       "        66572368,  73302640, 131712369,   4285539,  43205964, 135655382,\n",
       "         1010101,  19096231,  21940897,  31396507,  97750801,  76371883,\n",
       "       134123942, 110212529, 108133540,  63525013, 122845355, 138749234,\n",
       "        73724009,  68553398,  84515781, 130334199, 131986111,  75291684,\n",
       "        40492358, 114143227,  77491016,    482198,  87154949, 132293472,\n",
       "       130818455, 144817761,  65682244, 144991963,  90427593, 103467994,\n",
       "       144712082,  75209638, 130369988, 120038180,  58673076, 124035266,\n",
       "        28744221, 141423357,  34422190, 141611571, 142396258, 102476130,\n",
       "        67918262, 135559263, 111054792, 137489035, 137658495, 137921648,\n",
       "         7092557, 137316914, 137148507,   2475869, 133941950, 131507942,\n",
       "       139490749,  88792922,  82030165, 130895522, 116923559,  69593596,\n",
       "        12776568,  70650998, 145357122,  51396630,  22373282,    561266,\n",
       "       124795220,  54197540, 139807209, 114175196, 127391586,  78709637,\n",
       "       142179922, 122227510, 130331377,  56864853, 107365904, 143367322,\n",
       "        44045403,  35003601, 144794804,  80628288,  96510442, 120055762,\n",
       "       126492093, 137039711,  52668765, 124764970, 128536277,  61922933,\n",
       "        68394198, 122673742, 133378805,   8988273,  55959447,  74765332,\n",
       "       132203115,  65781940, 139667548, 124793864, 104855156, 129516435,\n",
       "        32218207,  75203080,  83388134, 136970362,   6765363,  90275160,\n",
       "        94057751,  16321577, 114175060, 129923979,  58270253,  58270313,\n",
       "        37841834,  39652015, 119301803,  74682106,  50565203,  95311620,\n",
       "        38645209, 132435925,  73558953,  84996477, 122359952,  81110235,\n",
       "        57824714, 143031787,  45364141,  95037050,  79141935,  46447735,\n",
       "         8494875,  83262629, 104100603,  77021408, 126118103,  42642363,\n",
       "        93267384,  93110198,  97912497,  12625492,  75224867, 100075773,\n",
       "        58502629, 143289920, 103427531,  35683571,  91687865, 143429455,\n",
       "       127103613, 138871938,  48324582,  33191872,  60286418, 144497304,\n",
       "        23873784,  70962795,  66401051,  90985447, 119401404,   4094838,\n",
       "        61509813,  76293515, 129105125,  90160890,  25317030,  85018036,\n",
       "       138729453,  35146345,  28112154,  74975681,  97323656,  86001719,\n",
       "       107594877,  21501092, 117863523, 143115552, 142965286,  13607494,\n",
       "       126564865, 126102538, 113203369,  94058423, 127100028,   4694842,\n",
       "        66434325,  62529469,  88132160,  53654695, 134070039,  88866153,\n",
       "       137542106,  50467050,  94747729, 126475552,  18645650, 142688664,\n",
       "        73540781,   4564864, 107276053,  91538091, 139425758, 127647557,\n",
       "        38291817, 121326208, 112877623, 126606988,  97304366,  60647806,\n",
       "        86962780, 131391959,  34352623, 139391691,  71746345, 103147580,\n",
       "       106493649, 134218440, 124804450, 139347011,  98093258,  38524975,\n",
       "       141706040, 127946315, 124778687,  90098332, 125754008, 105577516,\n",
       "       141414563, 136479269,  44127068, 126467938,  10149577,  64097639,\n",
       "        26699946, 145102584, 106845370, 110353166,  73784861,  85370158,\n",
       "        72585852,  74816105,  97376636, 122698257,  14118015, 124774802,\n",
       "        89858761,  60804291,  43145218,  71061821, 132067683,  67286290,\n",
       "       142637793, 129513556, 135049135, 130344866,  65864699,  43245920,\n",
       "        54047516,   1682847, 132527098, 109650231, 140523543, 125915713,\n",
       "        69081477,   4279342,  70000598,  63919025, 121758201,  18564727,\n",
       "       118198788,  94851269, 139660109, 145074086, 133212209, 141297375,\n",
       "       139292469,  29743947,  94436457,  77815724,   4305663,   8968659,\n",
       "       134998359, 132242662, 105689911, 125111536,  14548057,  96696319,\n",
       "        50627726, 124862018, 126279677,  70836049, 120601747,  60740065,\n",
       "       129816807,  46407893,  50920454, 116869902, 139625355,   6739165,\n",
       "        17745104, 141407002,  78339835,   4548460,  81405134, 143875450,\n",
       "       144580467,  88118502, 128212905, 123070288,  47350458,  84455619,\n",
       "        44845802,  32488882,  84476341,  12947239,  56101281, 115718123,\n",
       "        77337680,  98441217,   3701879,  10775105,  70944742,  57326917,\n",
       "        83889556,    733401,  92350954,  88887467, 120186820,  59581973,\n",
       "        70782235,  74574091,  65434500, 141030059,  74604136, 134263675,\n",
       "         4915180,  93105696,  93135754,  81513403,  76498775, 125495384,\n",
       "        94293814,  79044039,  83719876, 128105949,  68262643, 140497949,\n",
       "       125693256,  54928488,  56079482, 140937692,  75103252,  50465393,\n",
       "        84664341, 107058263,  55928591, 139621248, 142934714, 142990784,\n",
       "       130820205, 103638445, 133449364,  17332882,  99320418,  91453270,\n",
       "        87165108, 110662311, 129766898, 125034601, 108514084, 106987403,\n",
       "        26989794, 141804011,  74101233, 141886677,  96628935,  72683773,\n",
       "        77298827,  52709212,  95330554, 125730882,  38655125,  88783764,\n",
       "        45794303,  61331292,  61369832,  26749474,  87904317,  69742452,\n",
       "       127090975,    986703,  83313940,  96214908,  90299072,   8607822,\n",
       "       129997570, 104664297,  55455330,  93708555,  88989629,  96342937,\n",
       "       136491216,  86522701, 121337630,  53795273, 133131739, 125855577,\n",
       "        73231267,  29164336,  23173158,  10754853,  85291159, 126203380,\n",
       "        38647539,   4526730,  67808218, 144118144,  75941752, 142877040,\n",
       "        65725904, 106936032,  56482837,   4544953,  51376251,  46612958,\n",
       "         2645279,  76193637, 144707260,  39580700, 109233752,    785827,\n",
       "        17793409,  93994154,  86246563,   7057063,  48765830, 133505298,\n",
       "       132623042, 131547163,  29713905, 137147859, 132700799, 144959732,\n",
       "        83826256,  43470183, 143665680, 144201322, 112159695,  57164896,\n",
       "        96421352, 137978617, 121366722, 106806597, 119993069, 132454348,\n",
       "       125704018, 134316802,  77961221,  12295155,  75368178,  97367806,\n",
       "       131405802,  59945430,  75808253,   9914858, 143081204, 139003798,\n",
       "        13737728, 138089027,  68414600, 110343004, 141510571, 119279947,\n",
       "         1826732, 118328197, 101961161, 137443466,    736949,  97356377,\n",
       "       112840564,  77306764,  71855927,  27721310,  89909030, 115701929,\n",
       "       105637642, 140138838,  33131359,  75678885, 127319246, 143625865,\n",
       "       126113926, 119261152,  66463794, 104472570,  44995922, 123994978,\n",
       "        70742939,  52506425, 124876399,  92339595, 139667670,   9694744,\n",
       "        77506868,  50606782, 138765321,  63459129,    519954, 142896440,\n",
       "       127489117, 114218348,  70773671,   1282553,  59391462,  69833347,\n",
       "       109780689,  95149159,  49973369, 128639846,  43235780,  83757649,\n",
       "        69646648,  70741949, 127583119, 115691214, 118224064, 103637970,\n",
       "        41120916, 144974515,  16912784,  70552657,  29313901, 113045183,\n",
       "       111558517, 120659977,  12499335, 138203580, 109741122, 126833847,\n",
       "        95203319,  96493730, 126286137,  73312777, 142014029,    792270,\n",
       "       135374430, 128746206, 127274866,  98044750, 139505618,  92729477,\n",
       "        59382203, 106347831,  69522356, 136911748, 125051305, 109882084,\n",
       "        91230203, 113181130, 141836957,  65027508,  60890496, 128733287,\n",
       "       132458431,  38637805,  78558450, 142853610, 108124357, 113822365,\n",
       "       136899808,  66440322, 142998906,    405012, 141752541,  54107140,\n",
       "       132932888,  94191553, 130195255, 128244676,  75878818,   1446979,\n",
       "       132084541, 129127730, 142536497,  78800043, 130756073,  73724793,\n",
       "       110261189, 140250578,  76558623, 136034396,  96044367,  16231199,\n",
       "        95312173, 136149839,  66420385, 144597540, 103408104,  43499873,\n",
       "        92912522, 143892648, 128121049, 107357067,  23965663,  62337205,\n",
       "       129870781, 113537734, 145090075,  70090973, 119404461,  63328940,\n",
       "       119796394,  79370500, 112565361, 107459447,  71472622,   3700899,\n",
       "        92491854,  70886304,  37021348, 129635030, 138585728,  98438505,\n",
       "       137884077,  76052973, 117489130, 126162273,  68884530, 122312648,\n",
       "       134330443,  65975274, 142092780, 142892764,  90215075, 120623258,\n",
       "        69085139, 116244189,  57044192,  65128137, 125939307,  59462084,\n",
       "       110311657,  69127115,  91984876, 134932519,  96779498,  57286589,\n",
       "       102435586,  15439813, 130079181,  85371987, 107189561, 117841293,\n",
       "       107092597, 134984803,  75324463, 129394580,  99927033,  65364744,\n",
       "        93429953, 111066384, 122700272,  95222618, 141068415,  83756574,\n",
       "       107058120, 129523478, 136429088,  94291807,  88133019,  78901356,\n",
       "        77091866, 125177151, 142890805,  33230347, 123604983, 117218856,\n",
       "       139391814,  62237668,  97559272,  63527270, 133076559,  74532268,\n",
       "       138282206, 107853258, 138054070, 140832746,  26820123, 115248214,\n",
       "        72712649,  39571843, 141808169,  46746882, 130164560,  95816450,\n",
       "       131252297,  76985717,  54423766, 136396069, 121320830, 143887377,\n",
       "       123903601,  44106486,  96379781,  61311868, 127213522, 136607131,\n",
       "        71755374,  58682603, 112971525,  85732516,  27120381,  16221751,\n",
       "       132102792, 128130585, 132473657, 102463427, 125728448, 141234913,\n",
       "        92460017,  88704137,  90481398,   4298738,  39480666, 123063931,\n",
       "        94742537,  43935902,  43287211,  63286685,  68694046, 100155779,\n",
       "        46376412,  71754757,  63178081,   4307450,  29733971, 124998744,\n",
       "       111083362, 121396944, 122659802,  95218480,  17654532,  55937578,\n",
       "       130705370, 140832910, 125368142,   1226738,  38604767, 138260156,\n",
       "       133942061,  63547209,   4287915,  54534988, 137384955,  75289208,\n",
       "        88043946,  14520987, 142507153,  32358988, 120092069,  91363523,\n",
       "       121245177,  39827879, 119692786,  19897182, 111956836,  27581020,\n",
       "        77366625, 114514072,  38559964,  65028939,   1188969,  57195994,\n",
       "        91593619, 124953572,  81572192, 110792246, 139082105, 120652956,\n",
       "       143853153, 136418634], dtype=int64)"
      ]
     },
     "execution_count": 51,
     "metadata": {},
     "output_type": "execute_result"
    }
   ],
   "source": [
    "a_eliminar = num.loc[num.ingresos > 300000].index.values\n",
    "a_eliminar"
   ]
  },
  {
   "cell_type": "markdown",
   "id": "b995bf77",
   "metadata": {},
   "source": [
    "###### Aplicar"
   ]
  },
  {
   "cell_type": "code",
   "execution_count": 52,
   "id": "413fa5ea",
   "metadata": {},
   "outputs": [],
   "source": [
    "cat = cat[~cat.index.isin(a_eliminar)]\n",
    "num = num[~num.index.isin(a_eliminar)]"
   ]
  },
  {
   "cell_type": "markdown",
   "id": "0f6b1e4a",
   "metadata": {},
   "source": [
    "## GUARDAR DATASETS TRAS CALIDAD DE DATOS"
   ]
  },
  {
   "cell_type": "markdown",
   "id": "1e211b09",
   "metadata": {},
   "source": [
    "Guarda los avances en df, cat y num con un sufijo para poder guardar o recuperar avances del proyecto.\n",
    "\n",
    "En formato pickle para no perder las modificaciones de metadatos."
   ]
  },
  {
   "cell_type": "markdown",
   "id": "abb12eef",
   "metadata": {},
   "source": [
    "### Definir los nombres de los archivos"
   ]
  },
  {
   "cell_type": "code",
   "execution_count": 53,
   "id": "f83c6f26",
   "metadata": {},
   "outputs": [],
   "source": [
    "ruta_trabajo = ruta_proyecto + '/02_Datos/03_Trabajo/' + 'trabajo_resultado_calidad.pickle'\n",
    "ruta_cat = ruta_proyecto + '/02_Datos/03_Trabajo/' + 'cat_resultado_calidad.pickle'\n",
    "ruta_num = ruta_proyecto + '/02_Datos/03_Trabajo/' + 'num_resultado_calidad.pickle'"
   ]
  },
  {
   "cell_type": "markdown",
   "id": "1699f284",
   "metadata": {},
   "source": [
    "### Guardar los archivos"
   ]
  },
  {
   "cell_type": "code",
   "execution_count": 54,
   "id": "6731887a",
   "metadata": {},
   "outputs": [],
   "source": [
    "df.to_pickle(ruta_trabajo)\n",
    "cat.to_pickle(ruta_cat)\n",
    "num.to_pickle(ruta_num)"
   ]
  }
 ],
 "metadata": {
  "kernelspec": {
   "display_name": "Python 3 (ipykernel)",
   "language": "python",
   "name": "python3"
  },
  "language_info": {
   "codemirror_mode": {
    "name": "ipython",
    "version": 3
   },
   "file_extension": ".py",
   "mimetype": "text/x-python",
   "name": "python",
   "nbconvert_exporter": "python",
   "pygments_lexer": "ipython3",
   "version": "3.8.10"
  },
  "toc": {
   "base_numbering": 1,
   "nav_menu": {},
   "number_sections": true,
   "sideBar": true,
   "skip_h1_title": false,
   "title_cell": "Table of Contents",
   "title_sidebar": "Contents",
   "toc_cell": false,
   "toc_position": {
    "height": "calc(100% - 180px)",
    "left": "10px",
    "top": "150px",
    "width": "298.833px"
   },
   "toc_section_display": true,
   "toc_window_display": false
  },
  "varInspector": {
   "cols": {
    "lenName": 16,
    "lenType": 16,
    "lenVar": 40
   },
   "kernels_config": {
    "python": {
     "delete_cmd_postfix": "",
     "delete_cmd_prefix": "del ",
     "library": "var_list.py",
     "varRefreshCmd": "print(var_dic_list())"
    },
    "r": {
     "delete_cmd_postfix": ") ",
     "delete_cmd_prefix": "rm(",
     "library": "var_list.r",
     "varRefreshCmd": "cat(var_dic_list()) "
    }
   },
   "position": {
    "height": "546.85px",
    "left": "680.75px",
    "right": "20px",
    "top": "118px",
    "width": "350px"
   },
   "types_to_exclude": [
    "module",
    "function",
    "builtin_function_or_method",
    "instance",
    "_Feature"
   ],
   "window_display": false
  }
 },
 "nbformat": 4,
 "nbformat_minor": 5
}
