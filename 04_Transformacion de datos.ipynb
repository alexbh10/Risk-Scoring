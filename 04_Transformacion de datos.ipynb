{
 "cells": [
  {
   "cell_type": "markdown",
   "id": "d31dea65",
   "metadata": {},
   "source": [
    "# TRANSFORMACIÓN DE DATOS"
   ]
  },
  {
   "cell_type": "markdown",
   "id": "swiss-fault",
   "metadata": {},
   "source": [
    "## IMPORTAR PAQUETES"
   ]
  },
  {
   "cell_type": "code",
   "execution_count": 2,
   "id": "adjacent-toddler",
   "metadata": {},
   "outputs": [],
   "source": [
    "import numpy as np\n",
    "import pandas as pd\n",
    "import matplotlib.pyplot as plt\n",
    "%matplotlib inline\n",
    "\n",
    "from sklearn.preprocessing import OneHotEncoder\n",
    "from sklearn.preprocessing import OrdinalEncoder\n",
    "\n",
    "from sklearn.preprocessing import KBinsDiscretizer\n",
    "from sklearn.preprocessing import Binarizer\n",
    "\n",
    "from sklearn.feature_extraction.text import TfidfVectorizer\n",
    "\n",
    "from sklearn.preprocessing import MinMaxScaler\n",
    "\n",
    "#Automcompletar rápido\n",
    "%config IPCompleter.greedy=True"
   ]
  },
  {
   "cell_type": "markdown",
   "id": "graduate-compensation",
   "metadata": {},
   "source": [
    "## IMPORTAR LOS DATOS"
   ]
  },
  {
   "cell_type": "markdown",
   "id": "3a5b94ef",
   "metadata": {},
   "source": [
    "1.- Sustituir la ruta del proyecto."
   ]
  },
  {
   "cell_type": "code",
   "execution_count": 3,
   "id": "28c63848",
   "metadata": {},
   "outputs": [],
   "source": [
    "ruta_proyecto = 'E:/alex/03_MACHINE_LEARNING/08_CASOS//03_SCORING RIESGOS'"
   ]
  },
  {
   "cell_type": "markdown",
   "id": "c3363765",
   "metadata": {},
   "source": [
    "2.- Nombrar los ficheros de datos."
   ]
  },
  {
   "cell_type": "code",
   "execution_count": 4,
   "id": "a9e2e04a",
   "metadata": {},
   "outputs": [],
   "source": [
    "nombre_cat = 'cat_resultado_eda.pickle'\n",
    "nombre_num = 'num_resultado_eda.pickle'"
   ]
  },
  {
   "cell_type": "markdown",
   "id": "b9825018",
   "metadata": {},
   "source": [
    "3.- Cargar los datos."
   ]
  },
  {
   "cell_type": "code",
   "execution_count": 5,
   "id": "cab6ebcd",
   "metadata": {},
   "outputs": [],
   "source": [
    "cat = pd.read_pickle(ruta_proyecto + '/02_Datos/03_Trabajo/' + nombre_cat)\n",
    "num = pd.read_pickle(ruta_proyecto + '/02_Datos/03_Trabajo/' + nombre_num)"
   ]
  },
  {
   "cell_type": "markdown",
   "id": "cadc476d",
   "metadata": {},
   "source": [
    "Recordamos lo que habíamos identificado en fases anteriores y lo organizamos por tipo de acción.\n",
    "\n",
    "Modificar con pandas/numpy:\n",
    "\n",
    "* Crear la target a partir de estado\n",
    "* Discretizar num_meses_desde_ult_retraso\n",
    "* En vivienda juntar NONE y OTHER\n",
    "* En finalidad juntar renewable_energy, educational y vacation en 'otros'\n",
    "\n",
    "Modificar con scikit learn:\n",
    "\n",
    "* La variable descripcion podríamos trabajarla con un TF-IDF Vectorizer\n",
    "* Convertir num_derogatorios a binaria"
   ]
  },
  {
   "cell_type": "markdown",
   "id": "9790d322",
   "metadata": {},
   "source": [
    "## CREACIÓN DE VARIABLES Y TRANSFORMACIONES CON PANDAS"
   ]
  },
  {
   "cell_type": "markdown",
   "id": "1ab9af58",
   "metadata": {},
   "source": [
    "### Target para el modelo PD"
   ]
  },
  {
   "cell_type": "markdown",
   "id": "c109921b",
   "metadata": {},
   "source": [
    "Crear la target a partir de estado"
   ]
  },
  {
   "cell_type": "code",
   "execution_count": 6,
   "id": "1b7771e6",
   "metadata": {
    "scrolled": true
   },
   "outputs": [
    {
     "data": {
      "text/plain": [
       "Fully Paid                                             66083\n",
       "Current                                                54128\n",
       "Charged Off                                            16533\n",
       "Late (31-120 days)                                      1343\n",
       "In Grace Period                                          536\n",
       "Late (16-30 days)                                        269\n",
       "Does not meet the credit policy. Status:Fully Paid       125\n",
       "Does not meet the credit policy. Status:Charged Off       55\n",
       "Default                                                    2\n",
       "Name: estado, dtype: int64"
      ]
     },
     "execution_count": 6,
     "metadata": {},
     "output_type": "execute_result"
    }
   ],
   "source": [
    "cat.estado.value_counts()"
   ]
  },
  {
   "cell_type": "code",
   "execution_count": 7,
   "id": "8e080ce1",
   "metadata": {},
   "outputs": [
    {
     "data": {
      "text/html": [
       "<div>\n",
       "<style scoped>\n",
       "    .dataframe tbody tr th:only-of-type {\n",
       "        vertical-align: middle;\n",
       "    }\n",
       "\n",
       "    .dataframe tbody tr th {\n",
       "        vertical-align: top;\n",
       "    }\n",
       "\n",
       "    .dataframe thead th {\n",
       "        text-align: right;\n",
       "    }\n",
       "</style>\n",
       "<table border=\"1\" class=\"dataframe\">\n",
       "  <thead>\n",
       "    <tr style=\"text-align: right;\">\n",
       "      <th></th>\n",
       "      <th>empleo</th>\n",
       "      <th>antigüedad_empleo</th>\n",
       "      <th>ingresos_verificados</th>\n",
       "      <th>rating</th>\n",
       "      <th>vivienda</th>\n",
       "      <th>descripcion</th>\n",
       "      <th>finalidad</th>\n",
       "      <th>num_cuotas</th>\n",
       "      <th>estado</th>\n",
       "      <th>target_pd</th>\n",
       "    </tr>\n",
       "    <tr>\n",
       "      <th>id_cliente</th>\n",
       "      <th></th>\n",
       "      <th></th>\n",
       "      <th></th>\n",
       "      <th></th>\n",
       "      <th></th>\n",
       "      <th></th>\n",
       "      <th></th>\n",
       "      <th></th>\n",
       "      <th></th>\n",
       "      <th></th>\n",
       "    </tr>\n",
       "  </thead>\n",
       "  <tbody>\n",
       "    <tr>\n",
       "      <th>137387967</th>\n",
       "      <td>Hvac technician</td>\n",
       "      <td>3 years</td>\n",
       "      <td>Source Verified</td>\n",
       "      <td>A</td>\n",
       "      <td>MORTGAGE</td>\n",
       "      <td>desconocido</td>\n",
       "      <td>debt_consolidation</td>\n",
       "      <td>36 months</td>\n",
       "      <td>Current</td>\n",
       "      <td>0</td>\n",
       "    </tr>\n",
       "    <tr>\n",
       "      <th>4798121</th>\n",
       "      <td>Target Promotions and Marketing,Inc</td>\n",
       "      <td>10+ years</td>\n",
       "      <td>Not Verified</td>\n",
       "      <td>D</td>\n",
       "      <td>RENT</td>\n",
       "      <td>desconocido</td>\n",
       "      <td>debt_consolidation</td>\n",
       "      <td>36 months</td>\n",
       "      <td>Charged Off</td>\n",
       "      <td>1</td>\n",
       "    </tr>\n",
       "    <tr>\n",
       "      <th>46641215</th>\n",
       "      <td>Banker</td>\n",
       "      <td>5 years</td>\n",
       "      <td>Verified</td>\n",
       "      <td>A</td>\n",
       "      <td>RENT</td>\n",
       "      <td>desconocido</td>\n",
       "      <td>debt_consolidation</td>\n",
       "      <td>36 months</td>\n",
       "      <td>Fully Paid</td>\n",
       "      <td>0</td>\n",
       "    </tr>\n",
       "    <tr>\n",
       "      <th>87998444</th>\n",
       "      <td>executive director</td>\n",
       "      <td>9 years</td>\n",
       "      <td>Source Verified</td>\n",
       "      <td>B</td>\n",
       "      <td>MORTGAGE</td>\n",
       "      <td>desconocido</td>\n",
       "      <td>credit_card</td>\n",
       "      <td>60 months</td>\n",
       "      <td>Current</td>\n",
       "      <td>0</td>\n",
       "    </tr>\n",
       "    <tr>\n",
       "      <th>132883631</th>\n",
       "      <td>Subsea Technician</td>\n",
       "      <td>7 years</td>\n",
       "      <td>Source Verified</td>\n",
       "      <td>B</td>\n",
       "      <td>MORTGAGE</td>\n",
       "      <td>desconocido</td>\n",
       "      <td>debt_consolidation</td>\n",
       "      <td>36 months</td>\n",
       "      <td>Fully Paid</td>\n",
       "      <td>0</td>\n",
       "    </tr>\n",
       "    <tr>\n",
       "      <th>...</th>\n",
       "      <td>...</td>\n",
       "      <td>...</td>\n",
       "      <td>...</td>\n",
       "      <td>...</td>\n",
       "      <td>...</td>\n",
       "      <td>...</td>\n",
       "      <td>...</td>\n",
       "      <td>...</td>\n",
       "      <td>...</td>\n",
       "      <td>...</td>\n",
       "    </tr>\n",
       "    <tr>\n",
       "      <th>999338</th>\n",
       "      <td>T. Rowe Price</td>\n",
       "      <td>4 years</td>\n",
       "      <td>Verified</td>\n",
       "      <td>B</td>\n",
       "      <td>RENT</td>\n",
       "      <td>Borrower added on 11/01/11 &gt; Looking to use ...</td>\n",
       "      <td>debt_consolidation</td>\n",
       "      <td>60 months</td>\n",
       "      <td>Fully Paid</td>\n",
       "      <td>0</td>\n",
       "    </tr>\n",
       "    <tr>\n",
       "      <th>73222117</th>\n",
       "      <td>Executive Assistant</td>\n",
       "      <td>10+ years</td>\n",
       "      <td>Verified</td>\n",
       "      <td>B</td>\n",
       "      <td>RENT</td>\n",
       "      <td>desconocido</td>\n",
       "      <td>debt_consolidation</td>\n",
       "      <td>36 months</td>\n",
       "      <td>Fully Paid</td>\n",
       "      <td>0</td>\n",
       "    </tr>\n",
       "    <tr>\n",
       "      <th>51876926</th>\n",
       "      <td>Office Manager</td>\n",
       "      <td>10+ years</td>\n",
       "      <td>Not Verified</td>\n",
       "      <td>C</td>\n",
       "      <td>MORTGAGE</td>\n",
       "      <td>desconocido</td>\n",
       "      <td>debt_consolidation</td>\n",
       "      <td>36 months</td>\n",
       "      <td>Fully Paid</td>\n",
       "      <td>0</td>\n",
       "    </tr>\n",
       "    <tr>\n",
       "      <th>53664762</th>\n",
       "      <td>Attorney</td>\n",
       "      <td>8 years</td>\n",
       "      <td>Source Verified</td>\n",
       "      <td>E</td>\n",
       "      <td>RENT</td>\n",
       "      <td>desconocido</td>\n",
       "      <td>small_business</td>\n",
       "      <td>60 months</td>\n",
       "      <td>Charged Off</td>\n",
       "      <td>1</td>\n",
       "    </tr>\n",
       "    <tr>\n",
       "      <th>94394801</th>\n",
       "      <td>desconocido</td>\n",
       "      <td>desconocido</td>\n",
       "      <td>Not Verified</td>\n",
       "      <td>C</td>\n",
       "      <td>MORTGAGE</td>\n",
       "      <td>desconocido</td>\n",
       "      <td>debt_consolidation</td>\n",
       "      <td>36 months</td>\n",
       "      <td>Current</td>\n",
       "      <td>0</td>\n",
       "    </tr>\n",
       "  </tbody>\n",
       "</table>\n",
       "<p>139074 rows × 10 columns</p>\n",
       "</div>"
      ],
      "text/plain": [
       "                                         empleo antigüedad_empleo  \\\n",
       "id_cliente                                                          \n",
       "137387967                      Hvac technician            3 years   \n",
       "4798121     Target Promotions and Marketing,Inc         10+ years   \n",
       "46641215                                 Banker           5 years   \n",
       "87998444                     executive director           9 years   \n",
       "132883631                     Subsea Technician           7 years   \n",
       "...                                         ...               ...   \n",
       "999338                            T. Rowe Price           4 years   \n",
       "73222117                    Executive Assistant         10+ years   \n",
       "51876926                         Office Manager         10+ years   \n",
       "53664762                               Attorney           8 years   \n",
       "94394801                            desconocido       desconocido   \n",
       "\n",
       "           ingresos_verificados rating  vivienda  \\\n",
       "id_cliente                                         \n",
       "137387967       Source Verified      A  MORTGAGE   \n",
       "4798121            Not Verified      D      RENT   \n",
       "46641215               Verified      A      RENT   \n",
       "87998444        Source Verified      B  MORTGAGE   \n",
       "132883631       Source Verified      B  MORTGAGE   \n",
       "...                         ...    ...       ...   \n",
       "999338                 Verified      B      RENT   \n",
       "73222117               Verified      B      RENT   \n",
       "51876926           Not Verified      C  MORTGAGE   \n",
       "53664762        Source Verified      E      RENT   \n",
       "94394801           Not Verified      C  MORTGAGE   \n",
       "\n",
       "                                                  descripcion  \\\n",
       "id_cliente                                                      \n",
       "137387967                                         desconocido   \n",
       "4798121                                           desconocido   \n",
       "46641215                                          desconocido   \n",
       "87998444                                          desconocido   \n",
       "132883631                                         desconocido   \n",
       "...                                                       ...   \n",
       "999338        Borrower added on 11/01/11 > Looking to use ...   \n",
       "73222117                                          desconocido   \n",
       "51876926                                          desconocido   \n",
       "53664762                                          desconocido   \n",
       "94394801                                          desconocido   \n",
       "\n",
       "                     finalidad  num_cuotas       estado  target_pd  \n",
       "id_cliente                                                          \n",
       "137387967   debt_consolidation   36 months      Current          0  \n",
       "4798121     debt_consolidation   36 months  Charged Off          1  \n",
       "46641215    debt_consolidation   36 months   Fully Paid          0  \n",
       "87998444           credit_card   60 months      Current          0  \n",
       "132883631   debt_consolidation   36 months   Fully Paid          0  \n",
       "...                        ...         ...          ...        ...  \n",
       "999338      debt_consolidation   60 months   Fully Paid          0  \n",
       "73222117    debt_consolidation   36 months   Fully Paid          0  \n",
       "51876926    debt_consolidation   36 months   Fully Paid          0  \n",
       "53664762        small_business   60 months  Charged Off          1  \n",
       "94394801    debt_consolidation   36 months      Current          0  \n",
       "\n",
       "[139074 rows x 10 columns]"
      ]
     },
     "execution_count": 7,
     "metadata": {},
     "output_type": "execute_result"
    }
   ],
   "source": [
    "cat['target_pd'] = np.where(cat.estado.isin(['Charged Off','Does not meet the credit policy. Status:Charged Off','Default']), 1, 0)\n",
    "cat"
   ]
  },
  {
   "cell_type": "code",
   "execution_count": 8,
   "id": "1a0d0e4d",
   "metadata": {},
   "outputs": [],
   "source": [
    "cat.drop(columns='estado',inplace=True)"
   ]
  },
  {
   "cell_type": "markdown",
   "id": "65157e42",
   "metadata": {},
   "source": [
    "### Target para el modelo EAD"
   ]
  },
  {
   "cell_type": "markdown",
   "id": "4362bc74",
   "metadata": {},
   "source": [
    "Será el porcentaje del principal que no había sido amortizado.\n",
    "\n",
    "Por tanto: pendiente / principal\n",
    "\n",
    "Primero tenemos que construir el pendiente como el principal menos el amortizado."
   ]
  },
  {
   "cell_type": "code",
   "execution_count": 9,
   "id": "a0b1981f",
   "metadata": {},
   "outputs": [
    {
     "data": {
      "text/html": [
       "<div>\n",
       "<style scoped>\n",
       "    .dataframe tbody tr th:only-of-type {\n",
       "        vertical-align: middle;\n",
       "    }\n",
       "\n",
       "    .dataframe tbody tr th {\n",
       "        vertical-align: top;\n",
       "    }\n",
       "\n",
       "    .dataframe thead th {\n",
       "        text-align: right;\n",
       "    }\n",
       "</style>\n",
       "<table border=\"1\" class=\"dataframe\">\n",
       "  <thead>\n",
       "    <tr style=\"text-align: right;\">\n",
       "      <th></th>\n",
       "      <th>ingresos</th>\n",
       "      <th>dti</th>\n",
       "      <th>num_hipotecas</th>\n",
       "      <th>num_lineas_credito</th>\n",
       "      <th>porc_tarjetas_75p</th>\n",
       "      <th>porc_uso_revolving</th>\n",
       "      <th>num_cancelaciones_12meses</th>\n",
       "      <th>num_derogatorios</th>\n",
       "      <th>num_meses_desde_ult_retraso</th>\n",
       "      <th>principal</th>\n",
       "      <th>tipo_interes</th>\n",
       "      <th>imp_cuota</th>\n",
       "      <th>imp_amortizado</th>\n",
       "      <th>imp_recuperado</th>\n",
       "      <th>pendiente</th>\n",
       "    </tr>\n",
       "    <tr>\n",
       "      <th>id_cliente</th>\n",
       "      <th></th>\n",
       "      <th></th>\n",
       "      <th></th>\n",
       "      <th></th>\n",
       "      <th></th>\n",
       "      <th></th>\n",
       "      <th></th>\n",
       "      <th></th>\n",
       "      <th></th>\n",
       "      <th></th>\n",
       "      <th></th>\n",
       "      <th></th>\n",
       "      <th></th>\n",
       "      <th></th>\n",
       "      <th></th>\n",
       "    </tr>\n",
       "  </thead>\n",
       "  <tbody>\n",
       "    <tr>\n",
       "      <th>137387967</th>\n",
       "      <td>54000.0</td>\n",
       "      <td>19.31</td>\n",
       "      <td>2.0</td>\n",
       "      <td>10.0</td>\n",
       "      <td>33.3</td>\n",
       "      <td>45.2</td>\n",
       "      <td>0.0</td>\n",
       "      <td>0.0</td>\n",
       "      <td>10.0</td>\n",
       "      <td>15000.0</td>\n",
       "      <td>7.21</td>\n",
       "      <td>464.60</td>\n",
       "      <td>2669.06</td>\n",
       "      <td>0.00</td>\n",
       "      <td>12330.94</td>\n",
       "    </tr>\n",
       "    <tr>\n",
       "      <th>4798121</th>\n",
       "      <td>65000.0</td>\n",
       "      <td>25.40</td>\n",
       "      <td>1.0</td>\n",
       "      <td>15.0</td>\n",
       "      <td>85.7</td>\n",
       "      <td>86.2</td>\n",
       "      <td>0.0</td>\n",
       "      <td>0.0</td>\n",
       "      <td>0.0</td>\n",
       "      <td>10000.0</td>\n",
       "      <td>17.77</td>\n",
       "      <td>360.38</td>\n",
       "      <td>6362.96</td>\n",
       "      <td>0.00</td>\n",
       "      <td>3637.04</td>\n",
       "    </tr>\n",
       "    <tr>\n",
       "      <th>46641215</th>\n",
       "      <td>135000.0</td>\n",
       "      <td>14.68</td>\n",
       "      <td>0.0</td>\n",
       "      <td>19.0</td>\n",
       "      <td>0.0</td>\n",
       "      <td>16.3</td>\n",
       "      <td>0.0</td>\n",
       "      <td>0.0</td>\n",
       "      <td>0.0</td>\n",
       "      <td>24000.0</td>\n",
       "      <td>6.39</td>\n",
       "      <td>734.38</td>\n",
       "      <td>24000.00</td>\n",
       "      <td>0.00</td>\n",
       "      <td>0.00</td>\n",
       "    </tr>\n",
       "    <tr>\n",
       "      <th>87998444</th>\n",
       "      <td>188000.0</td>\n",
       "      <td>11.69</td>\n",
       "      <td>3.0</td>\n",
       "      <td>15.0</td>\n",
       "      <td>0.0</td>\n",
       "      <td>3.3</td>\n",
       "      <td>0.0</td>\n",
       "      <td>0.0</td>\n",
       "      <td>0.0</td>\n",
       "      <td>27000.0</td>\n",
       "      <td>8.99</td>\n",
       "      <td>560.35</td>\n",
       "      <td>12443.00</td>\n",
       "      <td>0.00</td>\n",
       "      <td>14557.00</td>\n",
       "    </tr>\n",
       "    <tr>\n",
       "      <th>132883631</th>\n",
       "      <td>125000.0</td>\n",
       "      <td>9.00</td>\n",
       "      <td>1.0</td>\n",
       "      <td>6.0</td>\n",
       "      <td>33.3</td>\n",
       "      <td>69.9</td>\n",
       "      <td>0.0</td>\n",
       "      <td>0.0</td>\n",
       "      <td>16.0</td>\n",
       "      <td>22000.0</td>\n",
       "      <td>10.90</td>\n",
       "      <td>719.22</td>\n",
       "      <td>22000.00</td>\n",
       "      <td>0.00</td>\n",
       "      <td>0.00</td>\n",
       "    </tr>\n",
       "    <tr>\n",
       "      <th>...</th>\n",
       "      <td>...</td>\n",
       "      <td>...</td>\n",
       "      <td>...</td>\n",
       "      <td>...</td>\n",
       "      <td>...</td>\n",
       "      <td>...</td>\n",
       "      <td>...</td>\n",
       "      <td>...</td>\n",
       "      <td>...</td>\n",
       "      <td>...</td>\n",
       "      <td>...</td>\n",
       "      <td>...</td>\n",
       "      <td>...</td>\n",
       "      <td>...</td>\n",
       "      <td>...</td>\n",
       "    </tr>\n",
       "    <tr>\n",
       "      <th>999338</th>\n",
       "      <td>55000.0</td>\n",
       "      <td>29.26</td>\n",
       "      <td>0.0</td>\n",
       "      <td>7.0</td>\n",
       "      <td>0.0</td>\n",
       "      <td>66.4</td>\n",
       "      <td>0.0</td>\n",
       "      <td>0.0</td>\n",
       "      <td>0.0</td>\n",
       "      <td>20000.0</td>\n",
       "      <td>12.69</td>\n",
       "      <td>451.90</td>\n",
       "      <td>20000.00</td>\n",
       "      <td>0.00</td>\n",
       "      <td>0.00</td>\n",
       "    </tr>\n",
       "    <tr>\n",
       "      <th>73222117</th>\n",
       "      <td>85000.0</td>\n",
       "      <td>33.05</td>\n",
       "      <td>1.0</td>\n",
       "      <td>25.0</td>\n",
       "      <td>90.0</td>\n",
       "      <td>76.0</td>\n",
       "      <td>1.0</td>\n",
       "      <td>0.0</td>\n",
       "      <td>0.0</td>\n",
       "      <td>3000.0</td>\n",
       "      <td>9.75</td>\n",
       "      <td>96.45</td>\n",
       "      <td>3000.00</td>\n",
       "      <td>0.00</td>\n",
       "      <td>0.00</td>\n",
       "    </tr>\n",
       "    <tr>\n",
       "      <th>51876926</th>\n",
       "      <td>42000.0</td>\n",
       "      <td>20.85</td>\n",
       "      <td>6.0</td>\n",
       "      <td>9.0</td>\n",
       "      <td>100.0</td>\n",
       "      <td>81.6</td>\n",
       "      <td>0.0</td>\n",
       "      <td>0.0</td>\n",
       "      <td>13.0</td>\n",
       "      <td>8000.0</td>\n",
       "      <td>12.29</td>\n",
       "      <td>266.83</td>\n",
       "      <td>8000.00</td>\n",
       "      <td>0.00</td>\n",
       "      <td>0.00</td>\n",
       "    </tr>\n",
       "    <tr>\n",
       "      <th>53664762</th>\n",
       "      <td>168000.0</td>\n",
       "      <td>4.69</td>\n",
       "      <td>0.0</td>\n",
       "      <td>8.0</td>\n",
       "      <td>0.0</td>\n",
       "      <td>52.4</td>\n",
       "      <td>0.0</td>\n",
       "      <td>2.0</td>\n",
       "      <td>0.0</td>\n",
       "      <td>30050.0</td>\n",
       "      <td>18.25</td>\n",
       "      <td>767.17</td>\n",
       "      <td>2964.44</td>\n",
       "      <td>2750.88</td>\n",
       "      <td>27085.56</td>\n",
       "    </tr>\n",
       "    <tr>\n",
       "      <th>94394801</th>\n",
       "      <td>80000.0</td>\n",
       "      <td>31.49</td>\n",
       "      <td>1.0</td>\n",
       "      <td>9.0</td>\n",
       "      <td>50.0</td>\n",
       "      <td>49.1</td>\n",
       "      <td>0.0</td>\n",
       "      <td>0.0</td>\n",
       "      <td>49.0</td>\n",
       "      <td>10000.0</td>\n",
       "      <td>13.99</td>\n",
       "      <td>341.73</td>\n",
       "      <td>7096.40</td>\n",
       "      <td>0.00</td>\n",
       "      <td>2903.60</td>\n",
       "    </tr>\n",
       "  </tbody>\n",
       "</table>\n",
       "<p>139074 rows × 15 columns</p>\n",
       "</div>"
      ],
      "text/plain": [
       "            ingresos    dti  num_hipotecas  num_lineas_credito  \\\n",
       "id_cliente                                                       \n",
       "137387967    54000.0  19.31            2.0                10.0   \n",
       "4798121      65000.0  25.40            1.0                15.0   \n",
       "46641215    135000.0  14.68            0.0                19.0   \n",
       "87998444    188000.0  11.69            3.0                15.0   \n",
       "132883631   125000.0   9.00            1.0                 6.0   \n",
       "...              ...    ...            ...                 ...   \n",
       "999338       55000.0  29.26            0.0                 7.0   \n",
       "73222117     85000.0  33.05            1.0                25.0   \n",
       "51876926     42000.0  20.85            6.0                 9.0   \n",
       "53664762    168000.0   4.69            0.0                 8.0   \n",
       "94394801     80000.0  31.49            1.0                 9.0   \n",
       "\n",
       "            porc_tarjetas_75p  porc_uso_revolving  num_cancelaciones_12meses  \\\n",
       "id_cliente                                                                     \n",
       "137387967                33.3                45.2                        0.0   \n",
       "4798121                  85.7                86.2                        0.0   \n",
       "46641215                  0.0                16.3                        0.0   \n",
       "87998444                  0.0                 3.3                        0.0   \n",
       "132883631                33.3                69.9                        0.0   \n",
       "...                       ...                 ...                        ...   \n",
       "999338                    0.0                66.4                        0.0   \n",
       "73222117                 90.0                76.0                        1.0   \n",
       "51876926                100.0                81.6                        0.0   \n",
       "53664762                  0.0                52.4                        0.0   \n",
       "94394801                 50.0                49.1                        0.0   \n",
       "\n",
       "            num_derogatorios  num_meses_desde_ult_retraso  principal  \\\n",
       "id_cliente                                                             \n",
       "137387967                0.0                         10.0    15000.0   \n",
       "4798121                  0.0                          0.0    10000.0   \n",
       "46641215                 0.0                          0.0    24000.0   \n",
       "87998444                 0.0                          0.0    27000.0   \n",
       "132883631                0.0                         16.0    22000.0   \n",
       "...                      ...                          ...        ...   \n",
       "999338                   0.0                          0.0    20000.0   \n",
       "73222117                 0.0                          0.0     3000.0   \n",
       "51876926                 0.0                         13.0     8000.0   \n",
       "53664762                 2.0                          0.0    30050.0   \n",
       "94394801                 0.0                         49.0    10000.0   \n",
       "\n",
       "            tipo_interes  imp_cuota  imp_amortizado  imp_recuperado  pendiente  \n",
       "id_cliente                                                                      \n",
       "137387967           7.21     464.60         2669.06            0.00   12330.94  \n",
       "4798121            17.77     360.38         6362.96            0.00    3637.04  \n",
       "46641215            6.39     734.38        24000.00            0.00       0.00  \n",
       "87998444            8.99     560.35        12443.00            0.00   14557.00  \n",
       "132883631          10.90     719.22        22000.00            0.00       0.00  \n",
       "...                  ...        ...             ...             ...        ...  \n",
       "999338             12.69     451.90        20000.00            0.00       0.00  \n",
       "73222117            9.75      96.45         3000.00            0.00       0.00  \n",
       "51876926           12.29     266.83         8000.00            0.00       0.00  \n",
       "53664762           18.25     767.17         2964.44         2750.88   27085.56  \n",
       "94394801           13.99     341.73         7096.40            0.00    2903.60  \n",
       "\n",
       "[139074 rows x 15 columns]"
      ]
     },
     "execution_count": 9,
     "metadata": {},
     "output_type": "execute_result"
    }
   ],
   "source": [
    "num['pendiente'] = num.principal - num.imp_amortizado\n",
    "num"
   ]
  },
  {
   "cell_type": "code",
   "execution_count": 10,
   "id": "4a7b933c",
   "metadata": {},
   "outputs": [
    {
     "data": {
      "text/html": [
       "<div>\n",
       "<style scoped>\n",
       "    .dataframe tbody tr th:only-of-type {\n",
       "        vertical-align: middle;\n",
       "    }\n",
       "\n",
       "    .dataframe tbody tr th {\n",
       "        vertical-align: top;\n",
       "    }\n",
       "\n",
       "    .dataframe thead th {\n",
       "        text-align: right;\n",
       "    }\n",
       "</style>\n",
       "<table border=\"1\" class=\"dataframe\">\n",
       "  <thead>\n",
       "    <tr style=\"text-align: right;\">\n",
       "      <th></th>\n",
       "      <th>ingresos</th>\n",
       "      <th>dti</th>\n",
       "      <th>num_hipotecas</th>\n",
       "      <th>num_lineas_credito</th>\n",
       "      <th>porc_tarjetas_75p</th>\n",
       "      <th>porc_uso_revolving</th>\n",
       "      <th>num_cancelaciones_12meses</th>\n",
       "      <th>num_derogatorios</th>\n",
       "      <th>num_meses_desde_ult_retraso</th>\n",
       "      <th>principal</th>\n",
       "      <th>tipo_interes</th>\n",
       "      <th>imp_cuota</th>\n",
       "      <th>imp_amortizado</th>\n",
       "      <th>imp_recuperado</th>\n",
       "      <th>pendiente</th>\n",
       "      <th>target_ead</th>\n",
       "    </tr>\n",
       "    <tr>\n",
       "      <th>id_cliente</th>\n",
       "      <th></th>\n",
       "      <th></th>\n",
       "      <th></th>\n",
       "      <th></th>\n",
       "      <th></th>\n",
       "      <th></th>\n",
       "      <th></th>\n",
       "      <th></th>\n",
       "      <th></th>\n",
       "      <th></th>\n",
       "      <th></th>\n",
       "      <th></th>\n",
       "      <th></th>\n",
       "      <th></th>\n",
       "      <th></th>\n",
       "      <th></th>\n",
       "    </tr>\n",
       "  </thead>\n",
       "  <tbody>\n",
       "    <tr>\n",
       "      <th>137387967</th>\n",
       "      <td>54000.0</td>\n",
       "      <td>19.31</td>\n",
       "      <td>2.0</td>\n",
       "      <td>10.0</td>\n",
       "      <td>33.3</td>\n",
       "      <td>45.2</td>\n",
       "      <td>0.0</td>\n",
       "      <td>0.0</td>\n",
       "      <td>10.0</td>\n",
       "      <td>15000.0</td>\n",
       "      <td>7.21</td>\n",
       "      <td>464.60</td>\n",
       "      <td>2669.06</td>\n",
       "      <td>0.00</td>\n",
       "      <td>12330.94</td>\n",
       "      <td>0.822063</td>\n",
       "    </tr>\n",
       "    <tr>\n",
       "      <th>4798121</th>\n",
       "      <td>65000.0</td>\n",
       "      <td>25.40</td>\n",
       "      <td>1.0</td>\n",
       "      <td>15.0</td>\n",
       "      <td>85.7</td>\n",
       "      <td>86.2</td>\n",
       "      <td>0.0</td>\n",
       "      <td>0.0</td>\n",
       "      <td>0.0</td>\n",
       "      <td>10000.0</td>\n",
       "      <td>17.77</td>\n",
       "      <td>360.38</td>\n",
       "      <td>6362.96</td>\n",
       "      <td>0.00</td>\n",
       "      <td>3637.04</td>\n",
       "      <td>0.363704</td>\n",
       "    </tr>\n",
       "    <tr>\n",
       "      <th>46641215</th>\n",
       "      <td>135000.0</td>\n",
       "      <td>14.68</td>\n",
       "      <td>0.0</td>\n",
       "      <td>19.0</td>\n",
       "      <td>0.0</td>\n",
       "      <td>16.3</td>\n",
       "      <td>0.0</td>\n",
       "      <td>0.0</td>\n",
       "      <td>0.0</td>\n",
       "      <td>24000.0</td>\n",
       "      <td>6.39</td>\n",
       "      <td>734.38</td>\n",
       "      <td>24000.00</td>\n",
       "      <td>0.00</td>\n",
       "      <td>0.00</td>\n",
       "      <td>0.000000</td>\n",
       "    </tr>\n",
       "    <tr>\n",
       "      <th>87998444</th>\n",
       "      <td>188000.0</td>\n",
       "      <td>11.69</td>\n",
       "      <td>3.0</td>\n",
       "      <td>15.0</td>\n",
       "      <td>0.0</td>\n",
       "      <td>3.3</td>\n",
       "      <td>0.0</td>\n",
       "      <td>0.0</td>\n",
       "      <td>0.0</td>\n",
       "      <td>27000.0</td>\n",
       "      <td>8.99</td>\n",
       "      <td>560.35</td>\n",
       "      <td>12443.00</td>\n",
       "      <td>0.00</td>\n",
       "      <td>14557.00</td>\n",
       "      <td>0.539148</td>\n",
       "    </tr>\n",
       "    <tr>\n",
       "      <th>132883631</th>\n",
       "      <td>125000.0</td>\n",
       "      <td>9.00</td>\n",
       "      <td>1.0</td>\n",
       "      <td>6.0</td>\n",
       "      <td>33.3</td>\n",
       "      <td>69.9</td>\n",
       "      <td>0.0</td>\n",
       "      <td>0.0</td>\n",
       "      <td>16.0</td>\n",
       "      <td>22000.0</td>\n",
       "      <td>10.90</td>\n",
       "      <td>719.22</td>\n",
       "      <td>22000.00</td>\n",
       "      <td>0.00</td>\n",
       "      <td>0.00</td>\n",
       "      <td>0.000000</td>\n",
       "    </tr>\n",
       "    <tr>\n",
       "      <th>...</th>\n",
       "      <td>...</td>\n",
       "      <td>...</td>\n",
       "      <td>...</td>\n",
       "      <td>...</td>\n",
       "      <td>...</td>\n",
       "      <td>...</td>\n",
       "      <td>...</td>\n",
       "      <td>...</td>\n",
       "      <td>...</td>\n",
       "      <td>...</td>\n",
       "      <td>...</td>\n",
       "      <td>...</td>\n",
       "      <td>...</td>\n",
       "      <td>...</td>\n",
       "      <td>...</td>\n",
       "      <td>...</td>\n",
       "    </tr>\n",
       "    <tr>\n",
       "      <th>999338</th>\n",
       "      <td>55000.0</td>\n",
       "      <td>29.26</td>\n",
       "      <td>0.0</td>\n",
       "      <td>7.0</td>\n",
       "      <td>0.0</td>\n",
       "      <td>66.4</td>\n",
       "      <td>0.0</td>\n",
       "      <td>0.0</td>\n",
       "      <td>0.0</td>\n",
       "      <td>20000.0</td>\n",
       "      <td>12.69</td>\n",
       "      <td>451.90</td>\n",
       "      <td>20000.00</td>\n",
       "      <td>0.00</td>\n",
       "      <td>0.00</td>\n",
       "      <td>0.000000</td>\n",
       "    </tr>\n",
       "    <tr>\n",
       "      <th>73222117</th>\n",
       "      <td>85000.0</td>\n",
       "      <td>33.05</td>\n",
       "      <td>1.0</td>\n",
       "      <td>25.0</td>\n",
       "      <td>90.0</td>\n",
       "      <td>76.0</td>\n",
       "      <td>1.0</td>\n",
       "      <td>0.0</td>\n",
       "      <td>0.0</td>\n",
       "      <td>3000.0</td>\n",
       "      <td>9.75</td>\n",
       "      <td>96.45</td>\n",
       "      <td>3000.00</td>\n",
       "      <td>0.00</td>\n",
       "      <td>0.00</td>\n",
       "      <td>0.000000</td>\n",
       "    </tr>\n",
       "    <tr>\n",
       "      <th>51876926</th>\n",
       "      <td>42000.0</td>\n",
       "      <td>20.85</td>\n",
       "      <td>6.0</td>\n",
       "      <td>9.0</td>\n",
       "      <td>100.0</td>\n",
       "      <td>81.6</td>\n",
       "      <td>0.0</td>\n",
       "      <td>0.0</td>\n",
       "      <td>13.0</td>\n",
       "      <td>8000.0</td>\n",
       "      <td>12.29</td>\n",
       "      <td>266.83</td>\n",
       "      <td>8000.00</td>\n",
       "      <td>0.00</td>\n",
       "      <td>0.00</td>\n",
       "      <td>0.000000</td>\n",
       "    </tr>\n",
       "    <tr>\n",
       "      <th>53664762</th>\n",
       "      <td>168000.0</td>\n",
       "      <td>4.69</td>\n",
       "      <td>0.0</td>\n",
       "      <td>8.0</td>\n",
       "      <td>0.0</td>\n",
       "      <td>52.4</td>\n",
       "      <td>0.0</td>\n",
       "      <td>2.0</td>\n",
       "      <td>0.0</td>\n",
       "      <td>30050.0</td>\n",
       "      <td>18.25</td>\n",
       "      <td>767.17</td>\n",
       "      <td>2964.44</td>\n",
       "      <td>2750.88</td>\n",
       "      <td>27085.56</td>\n",
       "      <td>0.901350</td>\n",
       "    </tr>\n",
       "    <tr>\n",
       "      <th>94394801</th>\n",
       "      <td>80000.0</td>\n",
       "      <td>31.49</td>\n",
       "      <td>1.0</td>\n",
       "      <td>9.0</td>\n",
       "      <td>50.0</td>\n",
       "      <td>49.1</td>\n",
       "      <td>0.0</td>\n",
       "      <td>0.0</td>\n",
       "      <td>49.0</td>\n",
       "      <td>10000.0</td>\n",
       "      <td>13.99</td>\n",
       "      <td>341.73</td>\n",
       "      <td>7096.40</td>\n",
       "      <td>0.00</td>\n",
       "      <td>2903.60</td>\n",
       "      <td>0.290360</td>\n",
       "    </tr>\n",
       "  </tbody>\n",
       "</table>\n",
       "<p>139074 rows × 16 columns</p>\n",
       "</div>"
      ],
      "text/plain": [
       "            ingresos    dti  num_hipotecas  num_lineas_credito  \\\n",
       "id_cliente                                                       \n",
       "137387967    54000.0  19.31            2.0                10.0   \n",
       "4798121      65000.0  25.40            1.0                15.0   \n",
       "46641215    135000.0  14.68            0.0                19.0   \n",
       "87998444    188000.0  11.69            3.0                15.0   \n",
       "132883631   125000.0   9.00            1.0                 6.0   \n",
       "...              ...    ...            ...                 ...   \n",
       "999338       55000.0  29.26            0.0                 7.0   \n",
       "73222117     85000.0  33.05            1.0                25.0   \n",
       "51876926     42000.0  20.85            6.0                 9.0   \n",
       "53664762    168000.0   4.69            0.0                 8.0   \n",
       "94394801     80000.0  31.49            1.0                 9.0   \n",
       "\n",
       "            porc_tarjetas_75p  porc_uso_revolving  num_cancelaciones_12meses  \\\n",
       "id_cliente                                                                     \n",
       "137387967                33.3                45.2                        0.0   \n",
       "4798121                  85.7                86.2                        0.0   \n",
       "46641215                  0.0                16.3                        0.0   \n",
       "87998444                  0.0                 3.3                        0.0   \n",
       "132883631                33.3                69.9                        0.0   \n",
       "...                       ...                 ...                        ...   \n",
       "999338                    0.0                66.4                        0.0   \n",
       "73222117                 90.0                76.0                        1.0   \n",
       "51876926                100.0                81.6                        0.0   \n",
       "53664762                  0.0                52.4                        0.0   \n",
       "94394801                 50.0                49.1                        0.0   \n",
       "\n",
       "            num_derogatorios  num_meses_desde_ult_retraso  principal  \\\n",
       "id_cliente                                                             \n",
       "137387967                0.0                         10.0    15000.0   \n",
       "4798121                  0.0                          0.0    10000.0   \n",
       "46641215                 0.0                          0.0    24000.0   \n",
       "87998444                 0.0                          0.0    27000.0   \n",
       "132883631                0.0                         16.0    22000.0   \n",
       "...                      ...                          ...        ...   \n",
       "999338                   0.0                          0.0    20000.0   \n",
       "73222117                 0.0                          0.0     3000.0   \n",
       "51876926                 0.0                         13.0     8000.0   \n",
       "53664762                 2.0                          0.0    30050.0   \n",
       "94394801                 0.0                         49.0    10000.0   \n",
       "\n",
       "            tipo_interes  imp_cuota  imp_amortizado  imp_recuperado  \\\n",
       "id_cliente                                                            \n",
       "137387967           7.21     464.60         2669.06            0.00   \n",
       "4798121            17.77     360.38         6362.96            0.00   \n",
       "46641215            6.39     734.38        24000.00            0.00   \n",
       "87998444            8.99     560.35        12443.00            0.00   \n",
       "132883631          10.90     719.22        22000.00            0.00   \n",
       "...                  ...        ...             ...             ...   \n",
       "999338             12.69     451.90        20000.00            0.00   \n",
       "73222117            9.75      96.45         3000.00            0.00   \n",
       "51876926           12.29     266.83         8000.00            0.00   \n",
       "53664762           18.25     767.17         2964.44         2750.88   \n",
       "94394801           13.99     341.73         7096.40            0.00   \n",
       "\n",
       "            pendiente  target_ead  \n",
       "id_cliente                         \n",
       "137387967    12330.94    0.822063  \n",
       "4798121       3637.04    0.363704  \n",
       "46641215         0.00    0.000000  \n",
       "87998444     14557.00    0.539148  \n",
       "132883631        0.00    0.000000  \n",
       "...               ...         ...  \n",
       "999338           0.00    0.000000  \n",
       "73222117         0.00    0.000000  \n",
       "51876926         0.00    0.000000  \n",
       "53664762     27085.56    0.901350  \n",
       "94394801      2903.60    0.290360  \n",
       "\n",
       "[139074 rows x 16 columns]"
      ]
     },
     "execution_count": 10,
     "metadata": {},
     "output_type": "execute_result"
    }
   ],
   "source": [
    "num['target_ead'] = num.pendiente / num.principal\n",
    "num"
   ]
  },
  {
   "cell_type": "markdown",
   "id": "8c40c295",
   "metadata": {},
   "source": [
    "### Target para el modelo LGD"
   ]
  },
  {
   "cell_type": "markdown",
   "id": "3c89583c",
   "metadata": {},
   "source": [
    "Será el porcentaje del pendiente que NO se recupera en caso de impago.\n",
    "\n",
    "Por tanto: 1 - (imp_recuperado / pendiente)"
   ]
  },
  {
   "cell_type": "code",
   "execution_count": 11,
   "id": "986e21b8",
   "metadata": {},
   "outputs": [
    {
     "name": "stdout",
     "output_type": "stream",
     "text": [
      "<class 'pandas.core.frame.DataFrame'>\n",
      "Int64Index: 139074 entries, 137387967 to 94394801\n",
      "Data columns (total 16 columns):\n",
      " #   Column                       Non-Null Count   Dtype  \n",
      "---  ------                       --------------   -----  \n",
      " 0   ingresos                     139074 non-null  float64\n",
      " 1   dti                          139074 non-null  float64\n",
      " 2   num_hipotecas                139074 non-null  float64\n",
      " 3   num_lineas_credito           139074 non-null  float64\n",
      " 4   porc_tarjetas_75p            139074 non-null  float64\n",
      " 5   porc_uso_revolving           139074 non-null  float64\n",
      " 6   num_cancelaciones_12meses    139074 non-null  float64\n",
      " 7   num_derogatorios             139074 non-null  float64\n",
      " 8   num_meses_desde_ult_retraso  139074 non-null  float64\n",
      " 9   principal                    139074 non-null  float64\n",
      " 10  tipo_interes                 139074 non-null  float64\n",
      " 11  imp_cuota                    139074 non-null  float64\n",
      " 12  imp_amortizado               139074 non-null  float64\n",
      " 13  imp_recuperado               139074 non-null  float64\n",
      " 14  pendiente                    139074 non-null  float64\n",
      " 15  target_ead                   139074 non-null  float64\n",
      "dtypes: float64(16)\n",
      "memory usage: 18.0 MB\n"
     ]
    }
   ],
   "source": [
    "num.info()"
   ]
  },
  {
   "cell_type": "code",
   "execution_count": 44,
   "id": "0f580462",
   "metadata": {},
   "outputs": [
    {
     "data": {
      "text/html": [
       "<div>\n",
       "<style scoped>\n",
       "    .dataframe tbody tr th:only-of-type {\n",
       "        vertical-align: middle;\n",
       "    }\n",
       "\n",
       "    .dataframe tbody tr th {\n",
       "        vertical-align: top;\n",
       "    }\n",
       "\n",
       "    .dataframe thead th {\n",
       "        text-align: right;\n",
       "    }\n",
       "</style>\n",
       "<table border=\"1\" class=\"dataframe\">\n",
       "  <thead>\n",
       "    <tr style=\"text-align: right;\">\n",
       "      <th></th>\n",
       "      <th>ingresos</th>\n",
       "      <th>dti</th>\n",
       "      <th>num_hipotecas</th>\n",
       "      <th>num_lineas_credito</th>\n",
       "      <th>porc_tarjetas_75p</th>\n",
       "      <th>porc_uso_revolving</th>\n",
       "      <th>num_cancelaciones_12meses</th>\n",
       "      <th>num_derogatorios</th>\n",
       "      <th>num_meses_desde_ult_retraso</th>\n",
       "      <th>principal</th>\n",
       "      <th>tipo_interes</th>\n",
       "      <th>imp_cuota</th>\n",
       "      <th>imp_amortizado</th>\n",
       "      <th>imp_recuperado</th>\n",
       "      <th>pendiente</th>\n",
       "      <th>target_ead</th>\n",
       "      <th>target_lgd</th>\n",
       "    </tr>\n",
       "    <tr>\n",
       "      <th>id_cliente</th>\n",
       "      <th></th>\n",
       "      <th></th>\n",
       "      <th></th>\n",
       "      <th></th>\n",
       "      <th></th>\n",
       "      <th></th>\n",
       "      <th></th>\n",
       "      <th></th>\n",
       "      <th></th>\n",
       "      <th></th>\n",
       "      <th></th>\n",
       "      <th></th>\n",
       "      <th></th>\n",
       "      <th></th>\n",
       "      <th></th>\n",
       "      <th></th>\n",
       "      <th></th>\n",
       "    </tr>\n",
       "  </thead>\n",
       "  <tbody>\n",
       "    <tr>\n",
       "      <th>137387967</th>\n",
       "      <td>54000.0</td>\n",
       "      <td>19.31</td>\n",
       "      <td>2.0</td>\n",
       "      <td>10.0</td>\n",
       "      <td>33.3</td>\n",
       "      <td>45.2</td>\n",
       "      <td>0.0</td>\n",
       "      <td>0.0</td>\n",
       "      <td>10.0</td>\n",
       "      <td>15000.0</td>\n",
       "      <td>7.21</td>\n",
       "      <td>464.60</td>\n",
       "      <td>2669.06</td>\n",
       "      <td>0.00</td>\n",
       "      <td>12330.94</td>\n",
       "      <td>0.822063</td>\n",
       "      <td>1.000000</td>\n",
       "    </tr>\n",
       "    <tr>\n",
       "      <th>4798121</th>\n",
       "      <td>65000.0</td>\n",
       "      <td>25.40</td>\n",
       "      <td>1.0</td>\n",
       "      <td>15.0</td>\n",
       "      <td>85.7</td>\n",
       "      <td>86.2</td>\n",
       "      <td>0.0</td>\n",
       "      <td>0.0</td>\n",
       "      <td>0.0</td>\n",
       "      <td>10000.0</td>\n",
       "      <td>17.77</td>\n",
       "      <td>360.38</td>\n",
       "      <td>6362.96</td>\n",
       "      <td>0.00</td>\n",
       "      <td>3637.04</td>\n",
       "      <td>0.363704</td>\n",
       "      <td>1.000000</td>\n",
       "    </tr>\n",
       "    <tr>\n",
       "      <th>46641215</th>\n",
       "      <td>135000.0</td>\n",
       "      <td>14.68</td>\n",
       "      <td>0.0</td>\n",
       "      <td>19.0</td>\n",
       "      <td>0.0</td>\n",
       "      <td>16.3</td>\n",
       "      <td>0.0</td>\n",
       "      <td>0.0</td>\n",
       "      <td>0.0</td>\n",
       "      <td>24000.0</td>\n",
       "      <td>6.39</td>\n",
       "      <td>734.38</td>\n",
       "      <td>24000.00</td>\n",
       "      <td>0.00</td>\n",
       "      <td>0.00</td>\n",
       "      <td>0.000000</td>\n",
       "      <td>NaN</td>\n",
       "    </tr>\n",
       "    <tr>\n",
       "      <th>87998444</th>\n",
       "      <td>188000.0</td>\n",
       "      <td>11.69</td>\n",
       "      <td>3.0</td>\n",
       "      <td>15.0</td>\n",
       "      <td>0.0</td>\n",
       "      <td>3.3</td>\n",
       "      <td>0.0</td>\n",
       "      <td>0.0</td>\n",
       "      <td>0.0</td>\n",
       "      <td>27000.0</td>\n",
       "      <td>8.99</td>\n",
       "      <td>560.35</td>\n",
       "      <td>12443.00</td>\n",
       "      <td>0.00</td>\n",
       "      <td>14557.00</td>\n",
       "      <td>0.539148</td>\n",
       "      <td>1.000000</td>\n",
       "    </tr>\n",
       "    <tr>\n",
       "      <th>132883631</th>\n",
       "      <td>125000.0</td>\n",
       "      <td>9.00</td>\n",
       "      <td>1.0</td>\n",
       "      <td>6.0</td>\n",
       "      <td>33.3</td>\n",
       "      <td>69.9</td>\n",
       "      <td>0.0</td>\n",
       "      <td>0.0</td>\n",
       "      <td>16.0</td>\n",
       "      <td>22000.0</td>\n",
       "      <td>10.90</td>\n",
       "      <td>719.22</td>\n",
       "      <td>22000.00</td>\n",
       "      <td>0.00</td>\n",
       "      <td>0.00</td>\n",
       "      <td>0.000000</td>\n",
       "      <td>NaN</td>\n",
       "    </tr>\n",
       "    <tr>\n",
       "      <th>...</th>\n",
       "      <td>...</td>\n",
       "      <td>...</td>\n",
       "      <td>...</td>\n",
       "      <td>...</td>\n",
       "      <td>...</td>\n",
       "      <td>...</td>\n",
       "      <td>...</td>\n",
       "      <td>...</td>\n",
       "      <td>...</td>\n",
       "      <td>...</td>\n",
       "      <td>...</td>\n",
       "      <td>...</td>\n",
       "      <td>...</td>\n",
       "      <td>...</td>\n",
       "      <td>...</td>\n",
       "      <td>...</td>\n",
       "      <td>...</td>\n",
       "    </tr>\n",
       "    <tr>\n",
       "      <th>999338</th>\n",
       "      <td>55000.0</td>\n",
       "      <td>29.26</td>\n",
       "      <td>0.0</td>\n",
       "      <td>7.0</td>\n",
       "      <td>0.0</td>\n",
       "      <td>66.4</td>\n",
       "      <td>0.0</td>\n",
       "      <td>0.0</td>\n",
       "      <td>0.0</td>\n",
       "      <td>20000.0</td>\n",
       "      <td>12.69</td>\n",
       "      <td>451.90</td>\n",
       "      <td>20000.00</td>\n",
       "      <td>0.00</td>\n",
       "      <td>0.00</td>\n",
       "      <td>0.000000</td>\n",
       "      <td>NaN</td>\n",
       "    </tr>\n",
       "    <tr>\n",
       "      <th>73222117</th>\n",
       "      <td>85000.0</td>\n",
       "      <td>33.05</td>\n",
       "      <td>1.0</td>\n",
       "      <td>25.0</td>\n",
       "      <td>90.0</td>\n",
       "      <td>76.0</td>\n",
       "      <td>1.0</td>\n",
       "      <td>0.0</td>\n",
       "      <td>0.0</td>\n",
       "      <td>3000.0</td>\n",
       "      <td>9.75</td>\n",
       "      <td>96.45</td>\n",
       "      <td>3000.00</td>\n",
       "      <td>0.00</td>\n",
       "      <td>0.00</td>\n",
       "      <td>0.000000</td>\n",
       "      <td>NaN</td>\n",
       "    </tr>\n",
       "    <tr>\n",
       "      <th>51876926</th>\n",
       "      <td>42000.0</td>\n",
       "      <td>20.85</td>\n",
       "      <td>6.0</td>\n",
       "      <td>9.0</td>\n",
       "      <td>100.0</td>\n",
       "      <td>81.6</td>\n",
       "      <td>0.0</td>\n",
       "      <td>0.0</td>\n",
       "      <td>13.0</td>\n",
       "      <td>8000.0</td>\n",
       "      <td>12.29</td>\n",
       "      <td>266.83</td>\n",
       "      <td>8000.00</td>\n",
       "      <td>0.00</td>\n",
       "      <td>0.00</td>\n",
       "      <td>0.000000</td>\n",
       "      <td>NaN</td>\n",
       "    </tr>\n",
       "    <tr>\n",
       "      <th>53664762</th>\n",
       "      <td>168000.0</td>\n",
       "      <td>4.69</td>\n",
       "      <td>0.0</td>\n",
       "      <td>8.0</td>\n",
       "      <td>0.0</td>\n",
       "      <td>52.4</td>\n",
       "      <td>0.0</td>\n",
       "      <td>2.0</td>\n",
       "      <td>0.0</td>\n",
       "      <td>30050.0</td>\n",
       "      <td>18.25</td>\n",
       "      <td>767.17</td>\n",
       "      <td>2964.44</td>\n",
       "      <td>2750.88</td>\n",
       "      <td>27085.56</td>\n",
       "      <td>0.901350</td>\n",
       "      <td>0.898437</td>\n",
       "    </tr>\n",
       "    <tr>\n",
       "      <th>94394801</th>\n",
       "      <td>80000.0</td>\n",
       "      <td>31.49</td>\n",
       "      <td>1.0</td>\n",
       "      <td>9.0</td>\n",
       "      <td>50.0</td>\n",
       "      <td>49.1</td>\n",
       "      <td>0.0</td>\n",
       "      <td>0.0</td>\n",
       "      <td>49.0</td>\n",
       "      <td>10000.0</td>\n",
       "      <td>13.99</td>\n",
       "      <td>341.73</td>\n",
       "      <td>7096.40</td>\n",
       "      <td>0.00</td>\n",
       "      <td>2903.60</td>\n",
       "      <td>0.290360</td>\n",
       "      <td>1.000000</td>\n",
       "    </tr>\n",
       "  </tbody>\n",
       "</table>\n",
       "<p>139074 rows × 17 columns</p>\n",
       "</div>"
      ],
      "text/plain": [
       "            ingresos    dti  num_hipotecas  num_lineas_credito  \\\n",
       "id_cliente                                                       \n",
       "137387967    54000.0  19.31            2.0                10.0   \n",
       "4798121      65000.0  25.40            1.0                15.0   \n",
       "46641215    135000.0  14.68            0.0                19.0   \n",
       "87998444    188000.0  11.69            3.0                15.0   \n",
       "132883631   125000.0   9.00            1.0                 6.0   \n",
       "...              ...    ...            ...                 ...   \n",
       "999338       55000.0  29.26            0.0                 7.0   \n",
       "73222117     85000.0  33.05            1.0                25.0   \n",
       "51876926     42000.0  20.85            6.0                 9.0   \n",
       "53664762    168000.0   4.69            0.0                 8.0   \n",
       "94394801     80000.0  31.49            1.0                 9.0   \n",
       "\n",
       "            porc_tarjetas_75p  porc_uso_revolving  num_cancelaciones_12meses  \\\n",
       "id_cliente                                                                     \n",
       "137387967                33.3                45.2                        0.0   \n",
       "4798121                  85.7                86.2                        0.0   \n",
       "46641215                  0.0                16.3                        0.0   \n",
       "87998444                  0.0                 3.3                        0.0   \n",
       "132883631                33.3                69.9                        0.0   \n",
       "...                       ...                 ...                        ...   \n",
       "999338                    0.0                66.4                        0.0   \n",
       "73222117                 90.0                76.0                        1.0   \n",
       "51876926                100.0                81.6                        0.0   \n",
       "53664762                  0.0                52.4                        0.0   \n",
       "94394801                 50.0                49.1                        0.0   \n",
       "\n",
       "            num_derogatorios  num_meses_desde_ult_retraso  principal  \\\n",
       "id_cliente                                                             \n",
       "137387967                0.0                         10.0    15000.0   \n",
       "4798121                  0.0                          0.0    10000.0   \n",
       "46641215                 0.0                          0.0    24000.0   \n",
       "87998444                 0.0                          0.0    27000.0   \n",
       "132883631                0.0                         16.0    22000.0   \n",
       "...                      ...                          ...        ...   \n",
       "999338                   0.0                          0.0    20000.0   \n",
       "73222117                 0.0                          0.0     3000.0   \n",
       "51876926                 0.0                         13.0     8000.0   \n",
       "53664762                 2.0                          0.0    30050.0   \n",
       "94394801                 0.0                         49.0    10000.0   \n",
       "\n",
       "            tipo_interes  imp_cuota  imp_amortizado  imp_recuperado  \\\n",
       "id_cliente                                                            \n",
       "137387967           7.21     464.60         2669.06            0.00   \n",
       "4798121            17.77     360.38         6362.96            0.00   \n",
       "46641215            6.39     734.38        24000.00            0.00   \n",
       "87998444            8.99     560.35        12443.00            0.00   \n",
       "132883631          10.90     719.22        22000.00            0.00   \n",
       "...                  ...        ...             ...             ...   \n",
       "999338             12.69     451.90        20000.00            0.00   \n",
       "73222117            9.75      96.45         3000.00            0.00   \n",
       "51876926           12.29     266.83         8000.00            0.00   \n",
       "53664762           18.25     767.17         2964.44         2750.88   \n",
       "94394801           13.99     341.73         7096.40            0.00   \n",
       "\n",
       "            pendiente  target_ead  target_lgd  \n",
       "id_cliente                                     \n",
       "137387967    12330.94    0.822063    1.000000  \n",
       "4798121       3637.04    0.363704    1.000000  \n",
       "46641215         0.00    0.000000         NaN  \n",
       "87998444     14557.00    0.539148    1.000000  \n",
       "132883631        0.00    0.000000         NaN  \n",
       "...               ...         ...         ...  \n",
       "999338           0.00    0.000000         NaN  \n",
       "73222117         0.00    0.000000         NaN  \n",
       "51876926         0.00    0.000000         NaN  \n",
       "53664762     27085.56    0.901350    0.898437  \n",
       "94394801      2903.60    0.290360    1.000000  \n",
       "\n",
       "[139074 rows x 17 columns]"
      ]
     },
     "execution_count": 44,
     "metadata": {},
     "output_type": "execute_result"
    }
   ],
   "source": [
    "num['target_lgd'] = 1 - (num.imp_recuperado / num.pendiente)\n",
    "num"
   ]
  },
  {
   "cell_type": "markdown",
   "id": "05e66782",
   "metadata": {},
   "source": [
    "Los nulos se producen cuando el pendiente es cero. Por tanto podemos imputarlos por ceros."
   ]
  },
  {
   "cell_type": "code",
   "execution_count": 45,
   "id": "b4512df5",
   "metadata": {},
   "outputs": [
    {
     "data": {
      "text/html": [
       "<div>\n",
       "<style scoped>\n",
       "    .dataframe tbody tr th:only-of-type {\n",
       "        vertical-align: middle;\n",
       "    }\n",
       "\n",
       "    .dataframe tbody tr th {\n",
       "        vertical-align: top;\n",
       "    }\n",
       "\n",
       "    .dataframe thead th {\n",
       "        text-align: right;\n",
       "    }\n",
       "</style>\n",
       "<table border=\"1\" class=\"dataframe\">\n",
       "  <thead>\n",
       "    <tr style=\"text-align: right;\">\n",
       "      <th></th>\n",
       "      <th>ingresos</th>\n",
       "      <th>dti</th>\n",
       "      <th>num_hipotecas</th>\n",
       "      <th>num_lineas_credito</th>\n",
       "      <th>porc_tarjetas_75p</th>\n",
       "      <th>porc_uso_revolving</th>\n",
       "      <th>num_cancelaciones_12meses</th>\n",
       "      <th>num_derogatorios</th>\n",
       "      <th>num_meses_desde_ult_retraso</th>\n",
       "      <th>principal</th>\n",
       "      <th>tipo_interes</th>\n",
       "      <th>imp_cuota</th>\n",
       "      <th>imp_amortizado</th>\n",
       "      <th>imp_recuperado</th>\n",
       "      <th>pendiente</th>\n",
       "      <th>target_ead</th>\n",
       "      <th>target_lgd</th>\n",
       "    </tr>\n",
       "    <tr>\n",
       "      <th>id_cliente</th>\n",
       "      <th></th>\n",
       "      <th></th>\n",
       "      <th></th>\n",
       "      <th></th>\n",
       "      <th></th>\n",
       "      <th></th>\n",
       "      <th></th>\n",
       "      <th></th>\n",
       "      <th></th>\n",
       "      <th></th>\n",
       "      <th></th>\n",
       "      <th></th>\n",
       "      <th></th>\n",
       "      <th></th>\n",
       "      <th></th>\n",
       "      <th></th>\n",
       "      <th></th>\n",
       "    </tr>\n",
       "  </thead>\n",
       "  <tbody>\n",
       "    <tr>\n",
       "      <th>137387967</th>\n",
       "      <td>54000.0</td>\n",
       "      <td>19.31</td>\n",
       "      <td>2.0</td>\n",
       "      <td>10.0</td>\n",
       "      <td>33.3</td>\n",
       "      <td>45.2</td>\n",
       "      <td>0.0</td>\n",
       "      <td>0.0</td>\n",
       "      <td>10.0</td>\n",
       "      <td>15000.0</td>\n",
       "      <td>7.21</td>\n",
       "      <td>464.60</td>\n",
       "      <td>2669.06</td>\n",
       "      <td>0.00</td>\n",
       "      <td>12330.94</td>\n",
       "      <td>0.822063</td>\n",
       "      <td>1.000000</td>\n",
       "    </tr>\n",
       "    <tr>\n",
       "      <th>4798121</th>\n",
       "      <td>65000.0</td>\n",
       "      <td>25.40</td>\n",
       "      <td>1.0</td>\n",
       "      <td>15.0</td>\n",
       "      <td>85.7</td>\n",
       "      <td>86.2</td>\n",
       "      <td>0.0</td>\n",
       "      <td>0.0</td>\n",
       "      <td>0.0</td>\n",
       "      <td>10000.0</td>\n",
       "      <td>17.77</td>\n",
       "      <td>360.38</td>\n",
       "      <td>6362.96</td>\n",
       "      <td>0.00</td>\n",
       "      <td>3637.04</td>\n",
       "      <td>0.363704</td>\n",
       "      <td>1.000000</td>\n",
       "    </tr>\n",
       "    <tr>\n",
       "      <th>46641215</th>\n",
       "      <td>135000.0</td>\n",
       "      <td>14.68</td>\n",
       "      <td>0.0</td>\n",
       "      <td>19.0</td>\n",
       "      <td>0.0</td>\n",
       "      <td>16.3</td>\n",
       "      <td>0.0</td>\n",
       "      <td>0.0</td>\n",
       "      <td>0.0</td>\n",
       "      <td>24000.0</td>\n",
       "      <td>6.39</td>\n",
       "      <td>734.38</td>\n",
       "      <td>24000.00</td>\n",
       "      <td>0.00</td>\n",
       "      <td>0.00</td>\n",
       "      <td>0.000000</td>\n",
       "      <td>0.000000</td>\n",
       "    </tr>\n",
       "    <tr>\n",
       "      <th>87998444</th>\n",
       "      <td>188000.0</td>\n",
       "      <td>11.69</td>\n",
       "      <td>3.0</td>\n",
       "      <td>15.0</td>\n",
       "      <td>0.0</td>\n",
       "      <td>3.3</td>\n",
       "      <td>0.0</td>\n",
       "      <td>0.0</td>\n",
       "      <td>0.0</td>\n",
       "      <td>27000.0</td>\n",
       "      <td>8.99</td>\n",
       "      <td>560.35</td>\n",
       "      <td>12443.00</td>\n",
       "      <td>0.00</td>\n",
       "      <td>14557.00</td>\n",
       "      <td>0.539148</td>\n",
       "      <td>1.000000</td>\n",
       "    </tr>\n",
       "    <tr>\n",
       "      <th>132883631</th>\n",
       "      <td>125000.0</td>\n",
       "      <td>9.00</td>\n",
       "      <td>1.0</td>\n",
       "      <td>6.0</td>\n",
       "      <td>33.3</td>\n",
       "      <td>69.9</td>\n",
       "      <td>0.0</td>\n",
       "      <td>0.0</td>\n",
       "      <td>16.0</td>\n",
       "      <td>22000.0</td>\n",
       "      <td>10.90</td>\n",
       "      <td>719.22</td>\n",
       "      <td>22000.00</td>\n",
       "      <td>0.00</td>\n",
       "      <td>0.00</td>\n",
       "      <td>0.000000</td>\n",
       "      <td>0.000000</td>\n",
       "    </tr>\n",
       "    <tr>\n",
       "      <th>...</th>\n",
       "      <td>...</td>\n",
       "      <td>...</td>\n",
       "      <td>...</td>\n",
       "      <td>...</td>\n",
       "      <td>...</td>\n",
       "      <td>...</td>\n",
       "      <td>...</td>\n",
       "      <td>...</td>\n",
       "      <td>...</td>\n",
       "      <td>...</td>\n",
       "      <td>...</td>\n",
       "      <td>...</td>\n",
       "      <td>...</td>\n",
       "      <td>...</td>\n",
       "      <td>...</td>\n",
       "      <td>...</td>\n",
       "      <td>...</td>\n",
       "    </tr>\n",
       "    <tr>\n",
       "      <th>999338</th>\n",
       "      <td>55000.0</td>\n",
       "      <td>29.26</td>\n",
       "      <td>0.0</td>\n",
       "      <td>7.0</td>\n",
       "      <td>0.0</td>\n",
       "      <td>66.4</td>\n",
       "      <td>0.0</td>\n",
       "      <td>0.0</td>\n",
       "      <td>0.0</td>\n",
       "      <td>20000.0</td>\n",
       "      <td>12.69</td>\n",
       "      <td>451.90</td>\n",
       "      <td>20000.00</td>\n",
       "      <td>0.00</td>\n",
       "      <td>0.00</td>\n",
       "      <td>0.000000</td>\n",
       "      <td>0.000000</td>\n",
       "    </tr>\n",
       "    <tr>\n",
       "      <th>73222117</th>\n",
       "      <td>85000.0</td>\n",
       "      <td>33.05</td>\n",
       "      <td>1.0</td>\n",
       "      <td>25.0</td>\n",
       "      <td>90.0</td>\n",
       "      <td>76.0</td>\n",
       "      <td>1.0</td>\n",
       "      <td>0.0</td>\n",
       "      <td>0.0</td>\n",
       "      <td>3000.0</td>\n",
       "      <td>9.75</td>\n",
       "      <td>96.45</td>\n",
       "      <td>3000.00</td>\n",
       "      <td>0.00</td>\n",
       "      <td>0.00</td>\n",
       "      <td>0.000000</td>\n",
       "      <td>0.000000</td>\n",
       "    </tr>\n",
       "    <tr>\n",
       "      <th>51876926</th>\n",
       "      <td>42000.0</td>\n",
       "      <td>20.85</td>\n",
       "      <td>6.0</td>\n",
       "      <td>9.0</td>\n",
       "      <td>100.0</td>\n",
       "      <td>81.6</td>\n",
       "      <td>0.0</td>\n",
       "      <td>0.0</td>\n",
       "      <td>13.0</td>\n",
       "      <td>8000.0</td>\n",
       "      <td>12.29</td>\n",
       "      <td>266.83</td>\n",
       "      <td>8000.00</td>\n",
       "      <td>0.00</td>\n",
       "      <td>0.00</td>\n",
       "      <td>0.000000</td>\n",
       "      <td>0.000000</td>\n",
       "    </tr>\n",
       "    <tr>\n",
       "      <th>53664762</th>\n",
       "      <td>168000.0</td>\n",
       "      <td>4.69</td>\n",
       "      <td>0.0</td>\n",
       "      <td>8.0</td>\n",
       "      <td>0.0</td>\n",
       "      <td>52.4</td>\n",
       "      <td>0.0</td>\n",
       "      <td>2.0</td>\n",
       "      <td>0.0</td>\n",
       "      <td>30050.0</td>\n",
       "      <td>18.25</td>\n",
       "      <td>767.17</td>\n",
       "      <td>2964.44</td>\n",
       "      <td>2750.88</td>\n",
       "      <td>27085.56</td>\n",
       "      <td>0.901350</td>\n",
       "      <td>0.898437</td>\n",
       "    </tr>\n",
       "    <tr>\n",
       "      <th>94394801</th>\n",
       "      <td>80000.0</td>\n",
       "      <td>31.49</td>\n",
       "      <td>1.0</td>\n",
       "      <td>9.0</td>\n",
       "      <td>50.0</td>\n",
       "      <td>49.1</td>\n",
       "      <td>0.0</td>\n",
       "      <td>0.0</td>\n",
       "      <td>49.0</td>\n",
       "      <td>10000.0</td>\n",
       "      <td>13.99</td>\n",
       "      <td>341.73</td>\n",
       "      <td>7096.40</td>\n",
       "      <td>0.00</td>\n",
       "      <td>2903.60</td>\n",
       "      <td>0.290360</td>\n",
       "      <td>1.000000</td>\n",
       "    </tr>\n",
       "  </tbody>\n",
       "</table>\n",
       "<p>139074 rows × 17 columns</p>\n",
       "</div>"
      ],
      "text/plain": [
       "            ingresos    dti  num_hipotecas  num_lineas_credito  \\\n",
       "id_cliente                                                       \n",
       "137387967    54000.0  19.31            2.0                10.0   \n",
       "4798121      65000.0  25.40            1.0                15.0   \n",
       "46641215    135000.0  14.68            0.0                19.0   \n",
       "87998444    188000.0  11.69            3.0                15.0   \n",
       "132883631   125000.0   9.00            1.0                 6.0   \n",
       "...              ...    ...            ...                 ...   \n",
       "999338       55000.0  29.26            0.0                 7.0   \n",
       "73222117     85000.0  33.05            1.0                25.0   \n",
       "51876926     42000.0  20.85            6.0                 9.0   \n",
       "53664762    168000.0   4.69            0.0                 8.0   \n",
       "94394801     80000.0  31.49            1.0                 9.0   \n",
       "\n",
       "            porc_tarjetas_75p  porc_uso_revolving  num_cancelaciones_12meses  \\\n",
       "id_cliente                                                                     \n",
       "137387967                33.3                45.2                        0.0   \n",
       "4798121                  85.7                86.2                        0.0   \n",
       "46641215                  0.0                16.3                        0.0   \n",
       "87998444                  0.0                 3.3                        0.0   \n",
       "132883631                33.3                69.9                        0.0   \n",
       "...                       ...                 ...                        ...   \n",
       "999338                    0.0                66.4                        0.0   \n",
       "73222117                 90.0                76.0                        1.0   \n",
       "51876926                100.0                81.6                        0.0   \n",
       "53664762                  0.0                52.4                        0.0   \n",
       "94394801                 50.0                49.1                        0.0   \n",
       "\n",
       "            num_derogatorios  num_meses_desde_ult_retraso  principal  \\\n",
       "id_cliente                                                             \n",
       "137387967                0.0                         10.0    15000.0   \n",
       "4798121                  0.0                          0.0    10000.0   \n",
       "46641215                 0.0                          0.0    24000.0   \n",
       "87998444                 0.0                          0.0    27000.0   \n",
       "132883631                0.0                         16.0    22000.0   \n",
       "...                      ...                          ...        ...   \n",
       "999338                   0.0                          0.0    20000.0   \n",
       "73222117                 0.0                          0.0     3000.0   \n",
       "51876926                 0.0                         13.0     8000.0   \n",
       "53664762                 2.0                          0.0    30050.0   \n",
       "94394801                 0.0                         49.0    10000.0   \n",
       "\n",
       "            tipo_interes  imp_cuota  imp_amortizado  imp_recuperado  \\\n",
       "id_cliente                                                            \n",
       "137387967           7.21     464.60         2669.06            0.00   \n",
       "4798121            17.77     360.38         6362.96            0.00   \n",
       "46641215            6.39     734.38        24000.00            0.00   \n",
       "87998444            8.99     560.35        12443.00            0.00   \n",
       "132883631          10.90     719.22        22000.00            0.00   \n",
       "...                  ...        ...             ...             ...   \n",
       "999338             12.69     451.90        20000.00            0.00   \n",
       "73222117            9.75      96.45         3000.00            0.00   \n",
       "51876926           12.29     266.83         8000.00            0.00   \n",
       "53664762           18.25     767.17         2964.44         2750.88   \n",
       "94394801           13.99     341.73         7096.40            0.00   \n",
       "\n",
       "            pendiente  target_ead  target_lgd  \n",
       "id_cliente                                     \n",
       "137387967    12330.94    0.822063    1.000000  \n",
       "4798121       3637.04    0.363704    1.000000  \n",
       "46641215         0.00    0.000000    0.000000  \n",
       "87998444     14557.00    0.539148    1.000000  \n",
       "132883631        0.00    0.000000    0.000000  \n",
       "...               ...         ...         ...  \n",
       "999338           0.00    0.000000    0.000000  \n",
       "73222117         0.00    0.000000    0.000000  \n",
       "51876926         0.00    0.000000    0.000000  \n",
       "53664762     27085.56    0.901350    0.898437  \n",
       "94394801      2903.60    0.290360    1.000000  \n",
       "\n",
       "[139074 rows x 17 columns]"
      ]
     },
     "execution_count": 45,
     "metadata": {},
     "output_type": "execute_result"
    }
   ],
   "source": [
    "num['target_lgd'].fillna(0,inplace=True)\n",
    "num"
   ]
  },
  {
   "cell_type": "markdown",
   "id": "cd06aa6c",
   "metadata": {},
   "source": [
    "Comprobamos las targets creadas."
   ]
  },
  {
   "cell_type": "code",
   "execution_count": 46,
   "id": "639ec4bd",
   "metadata": {},
   "outputs": [
    {
     "data": {
      "text/plain": [
       "0.11928901160533241"
      ]
     },
     "execution_count": 46,
     "metadata": {},
     "output_type": "execute_result"
    }
   ],
   "source": [
    "cat['target_pd'].mean()"
   ]
  },
  {
   "cell_type": "code",
   "execution_count": 47,
   "id": "40bf8f46",
   "metadata": {},
   "outputs": [
    {
     "data": {
      "text/html": [
       "<div>\n",
       "<style scoped>\n",
       "    .dataframe tbody tr th:only-of-type {\n",
       "        vertical-align: middle;\n",
       "    }\n",
       "\n",
       "    .dataframe tbody tr th {\n",
       "        vertical-align: top;\n",
       "    }\n",
       "\n",
       "    .dataframe thead th {\n",
       "        text-align: right;\n",
       "    }\n",
       "</style>\n",
       "<table border=\"1\" class=\"dataframe\">\n",
       "  <thead>\n",
       "    <tr style=\"text-align: right;\">\n",
       "      <th></th>\n",
       "      <th>count</th>\n",
       "      <th>mean</th>\n",
       "      <th>std</th>\n",
       "      <th>min</th>\n",
       "      <th>25%</th>\n",
       "      <th>50%</th>\n",
       "      <th>75%</th>\n",
       "      <th>max</th>\n",
       "    </tr>\n",
       "  </thead>\n",
       "  <tbody>\n",
       "    <tr>\n",
       "      <th>target_ead</th>\n",
       "      <td>139074.0</td>\n",
       "      <td>0.338083</td>\n",
       "      <td>0.369154</td>\n",
       "      <td>-0.000003</td>\n",
       "      <td>0.0</td>\n",
       "      <td>0.132827</td>\n",
       "      <td>0.725729</td>\n",
       "      <td>1.0</td>\n",
       "    </tr>\n",
       "    <tr>\n",
       "      <th>target_lgd</th>\n",
       "      <td>139074.0</td>\n",
       "      <td>0.509590</td>\n",
       "      <td>0.490280</td>\n",
       "      <td>-0.275957</td>\n",
       "      <td>0.0</td>\n",
       "      <td>0.851636</td>\n",
       "      <td>1.000000</td>\n",
       "      <td>1.0</td>\n",
       "    </tr>\n",
       "  </tbody>\n",
       "</table>\n",
       "</div>"
      ],
      "text/plain": [
       "               count      mean       std       min  25%       50%       75%  \\\n",
       "target_ead  139074.0  0.338083  0.369154 -0.000003  0.0  0.132827  0.725729   \n",
       "target_lgd  139074.0  0.509590  0.490280 -0.275957  0.0  0.851636  1.000000   \n",
       "\n",
       "            max  \n",
       "target_ead  1.0  \n",
       "target_lgd  1.0  "
      ]
     },
     "execution_count": 47,
     "metadata": {},
     "output_type": "execute_result"
    }
   ],
   "source": [
    "num[['target_ead','target_lgd']].describe().T"
   ]
  },
  {
   "cell_type": "markdown",
   "id": "aa970f98",
   "metadata": {},
   "source": [
    "Limitamos para garantizar que siempre estén entre 0 y 1"
   ]
  },
  {
   "cell_type": "code",
   "execution_count": 48,
   "id": "cc966614",
   "metadata": {},
   "outputs": [],
   "source": [
    "num.target_ead = np.where(num.target_ead < 0, 0, num.target_ead)\n",
    "num.target_ead = np.where(num.target_ead > 1, 1, num.target_ead)\n",
    "num.target_lgd = np.where(num.target_lgd < 0, 0, num.target_lgd)\n",
    "num.target_lgd = np.where(num.target_lgd > 1, 1, num.target_lgd)"
   ]
  },
  {
   "cell_type": "code",
   "execution_count": 49,
   "id": "6d906c81",
   "metadata": {},
   "outputs": [
    {
     "data": {
      "text/html": [
       "<div>\n",
       "<style scoped>\n",
       "    .dataframe tbody tr th:only-of-type {\n",
       "        vertical-align: middle;\n",
       "    }\n",
       "\n",
       "    .dataframe tbody tr th {\n",
       "        vertical-align: top;\n",
       "    }\n",
       "\n",
       "    .dataframe thead th {\n",
       "        text-align: right;\n",
       "    }\n",
       "</style>\n",
       "<table border=\"1\" class=\"dataframe\">\n",
       "  <thead>\n",
       "    <tr style=\"text-align: right;\">\n",
       "      <th></th>\n",
       "      <th>count</th>\n",
       "      <th>mean</th>\n",
       "      <th>std</th>\n",
       "      <th>min</th>\n",
       "      <th>25%</th>\n",
       "      <th>50%</th>\n",
       "      <th>75%</th>\n",
       "      <th>max</th>\n",
       "    </tr>\n",
       "  </thead>\n",
       "  <tbody>\n",
       "    <tr>\n",
       "      <th>target_ead</th>\n",
       "      <td>139074.0</td>\n",
       "      <td>0.338083</td>\n",
       "      <td>0.369154</td>\n",
       "      <td>0.0</td>\n",
       "      <td>0.0</td>\n",
       "      <td>0.132827</td>\n",
       "      <td>0.725729</td>\n",
       "      <td>1.0</td>\n",
       "    </tr>\n",
       "    <tr>\n",
       "      <th>target_lgd</th>\n",
       "      <td>139074.0</td>\n",
       "      <td>0.509616</td>\n",
       "      <td>0.490248</td>\n",
       "      <td>0.0</td>\n",
       "      <td>0.0</td>\n",
       "      <td>0.851636</td>\n",
       "      <td>1.000000</td>\n",
       "      <td>1.0</td>\n",
       "    </tr>\n",
       "  </tbody>\n",
       "</table>\n",
       "</div>"
      ],
      "text/plain": [
       "               count      mean       std  min  25%       50%       75%  max\n",
       "target_ead  139074.0  0.338083  0.369154  0.0  0.0  0.132827  0.725729  1.0\n",
       "target_lgd  139074.0  0.509616  0.490248  0.0  0.0  0.851636  1.000000  1.0"
      ]
     },
     "execution_count": 49,
     "metadata": {},
     "output_type": "execute_result"
    }
   ],
   "source": [
    "num[['target_ead','target_lgd']].describe().T"
   ]
  },
  {
   "cell_type": "markdown",
   "id": "f607778c",
   "metadata": {},
   "source": [
    "### Resto de variables"
   ]
  },
  {
   "cell_type": "markdown",
   "id": "dcd35861",
   "metadata": {},
   "source": [
    "num_meses_desde_ult_retraso\n",
    "\n",
    "Vamos a comenzar revisando la relación con la target_pd"
   ]
  },
  {
   "cell_type": "code",
   "execution_count": 50,
   "id": "56681b81",
   "metadata": {},
   "outputs": [],
   "source": [
    "temp = num[['num_meses_desde_ult_retraso']].copy()"
   ]
  },
  {
   "cell_type": "code",
   "execution_count": 51,
   "id": "7828e5d4",
   "metadata": {},
   "outputs": [],
   "source": [
    "temp['num_meses_desde_ult_retraso_tramos'] = pd.cut(temp['num_meses_desde_ult_retraso'],20)\n",
    "temp['target'] = cat['target_pd']"
   ]
  },
  {
   "cell_type": "code",
   "execution_count": 52,
   "id": "c9da07d0",
   "metadata": {},
   "outputs": [
    {
     "data": {
      "image/png": "[encoded data removed]",
      "text/plain": [
       "<Figure size 432x288 with 1 Axes>"
      ]
     },
     "metadata": {
      "needs_background": "light"
     },
     "output_type": "display_data"
    }
   ],
   "source": [
    "temp.groupby('num_meses_desde_ult_retraso_tramos').target.mean().plot.bar();"
   ]
  },
  {
   "cell_type": "markdown",
   "id": "a1fc5be8",
   "metadata": {},
   "source": [
    "La distribución de la target en esta variable no nos genera confianza, así que la descartamos."
   ]
  },
  {
   "cell_type": "code",
   "execution_count": 53,
   "id": "63b15a20",
   "metadata": {},
   "outputs": [],
   "source": [
    "num.drop(columns='num_meses_desde_ult_retraso',inplace=True)"
   ]
  },
  {
   "cell_type": "markdown",
   "id": "5d9ea1e5",
   "metadata": {},
   "source": [
    "En vivienda juntar ANY, NONE y OTHER"
   ]
  },
  {
   "cell_type": "code",
   "execution_count": 54,
   "id": "379685ee",
   "metadata": {},
   "outputs": [
    {
     "data": {
      "text/plain": [
       "MORTGAGE    67878\n",
       "RENT        55506\n",
       "OWN         15622\n",
       "ANY            56\n",
       "OTHER          11\n",
       "NONE            1\n",
       "Name: vivienda, dtype: int64"
      ]
     },
     "execution_count": 54,
     "metadata": {},
     "output_type": "execute_result"
    }
   ],
   "source": [
    "cat.vivienda.value_counts()"
   ]
  },
  {
   "cell_type": "code",
   "execution_count": 55,
   "id": "8ce59451",
   "metadata": {},
   "outputs": [],
   "source": [
    "cat.vivienda = cat.vivienda.replace(['ANY','NONE','OTHER'],'MORTGAGE')"
   ]
  },
  {
   "cell_type": "code",
   "execution_count": 56,
   "id": "e7c07940",
   "metadata": {},
   "outputs": [
    {
     "data": {
      "text/plain": [
       "MORTGAGE    67946\n",
       "RENT        55506\n",
       "OWN         15622\n",
       "Name: vivienda, dtype: int64"
      ]
     },
     "execution_count": 56,
     "metadata": {},
     "output_type": "execute_result"
    }
   ],
   "source": [
    "cat.vivienda.value_counts()"
   ]
  },
  {
   "cell_type": "markdown",
   "id": "2a8c6c18",
   "metadata": {},
   "source": [
    "En finalidad juntar renewable_energy, educational y wedding en 'otros'"
   ]
  },
  {
   "cell_type": "code",
   "execution_count": 57,
   "id": "06bd485a",
   "metadata": {},
   "outputs": [
    {
     "data": {
      "text/plain": [
       "debt_consolidation    78904\n",
       "credit_card           31477\n",
       "home_improvement       9106\n",
       "other                  8566\n",
       "major_purchase         3167\n",
       "medical                1734\n",
       "small_business         1617\n",
       "car                    1385\n",
       "vacation                989\n",
       "moving                  978\n",
       "house                   906\n",
       "wedding                 133\n",
       "renewable_energy         87\n",
       "educational              25\n",
       "Name: finalidad, dtype: int64"
      ]
     },
     "execution_count": 57,
     "metadata": {},
     "output_type": "execute_result"
    }
   ],
   "source": [
    "cat.finalidad.value_counts()"
   ]
  },
  {
   "cell_type": "code",
   "execution_count": 58,
   "id": "56eebba9",
   "metadata": {},
   "outputs": [],
   "source": [
    "cat.finalidad = cat.finalidad.replace(['wedding','educational','renewable_energy'],'otros')"
   ]
  },
  {
   "cell_type": "code",
   "execution_count": 59,
   "id": "1ca953be",
   "metadata": {},
   "outputs": [
    {
     "data": {
      "text/plain": [
       "debt_consolidation    78904\n",
       "credit_card           31477\n",
       "home_improvement       9106\n",
       "other                  8566\n",
       "major_purchase         3167\n",
       "medical                1734\n",
       "small_business         1617\n",
       "car                    1385\n",
       "vacation                989\n",
       "moving                  978\n",
       "house                   906\n",
       "otros                   245\n",
       "Name: finalidad, dtype: int64"
      ]
     },
     "execution_count": 59,
     "metadata": {},
     "output_type": "execute_result"
    }
   ],
   "source": [
    "cat.finalidad.value_counts()"
   ]
  },
  {
   "cell_type": "markdown",
   "id": "43d5bec0",
   "metadata": {},
   "source": [
    "## TRANSFORMACIÓN DE CATEGÓRICAS"
   ]
  },
  {
   "cell_type": "markdown",
   "id": "f1fa5201",
   "metadata": {},
   "source": [
    "### One Hot Encoding"
   ]
  },
  {
   "cell_type": "markdown",
   "id": "da9b786a",
   "metadata": {},
   "source": [
    "#### Variables a aplicar OHE"
   ]
  },
  {
   "cell_type": "code",
   "execution_count": 60,
   "id": "6e36cf47",
   "metadata": {},
   "outputs": [],
   "source": [
    "var_ohe = [ 'ingresos_verificados', 'vivienda','finalidad','num_cuotas']"
   ]
  },
  {
   "cell_type": "markdown",
   "id": "db8d4634",
   "metadata": {},
   "source": [
    "#### Instanciar"
   ]
  },
  {
   "cell_type": "code",
   "execution_count": 61,
   "id": "e75c2ee4",
   "metadata": {},
   "outputs": [],
   "source": [
    "ohe = OneHotEncoder(sparse = False, handle_unknown='ignore')"
   ]
  },
  {
   "cell_type": "markdown",
   "id": "26c9f58f",
   "metadata": {},
   "source": [
    "#### Entrenar y aplicar"
   ]
  },
  {
   "cell_type": "code",
   "execution_count": 62,
   "id": "4162d5a7",
   "metadata": {},
   "outputs": [],
   "source": [
    "cat_ohe = ohe.fit_transform(cat[var_ohe])"
   ]
  },
  {
   "cell_type": "markdown",
   "id": "c9131f15",
   "metadata": {},
   "source": [
    "#### Guardar como dataframe"
   ]
  },
  {
   "cell_type": "code",
   "execution_count": 63,
   "id": "783255d7",
   "metadata": {},
   "outputs": [],
   "source": [
    "cat_ohe = pd.DataFrame(cat_ohe, columns = ohe.get_feature_names_out())"
   ]
  },
  {
   "cell_type": "markdown",
   "id": "5e7c941a",
   "metadata": {},
   "source": [
    "### Ordinal Encoding"
   ]
  },
  {
   "cell_type": "markdown",
   "id": "c49c4a51",
   "metadata": {},
   "source": [
    "#### Variables a aplicar OE"
   ]
  },
  {
   "cell_type": "code",
   "execution_count": 64,
   "id": "8a09974e",
   "metadata": {},
   "outputs": [],
   "source": [
    "var_oe = ['antigüedad_empleo','rating']"
   ]
  },
  {
   "cell_type": "markdown",
   "id": "6922c091",
   "metadata": {},
   "source": [
    "#### Orden de los valores de las variables"
   ]
  },
  {
   "cell_type": "code",
   "execution_count": 65,
   "id": "428dfe69",
   "metadata": {},
   "outputs": [],
   "source": [
    "#Orden de la primera variable\n",
    "orden_antigüedad_empleo = ['desconocido','< 1 year','1 year','2 years','3 years','4 years',\n",
    "                           '5 years','6 years','7 years','8 years','9 years','10+ years']\n",
    "\n",
    "#Orden de la segunda variable\n",
    "orden_rating = ['A','B','C','D','E','F','G']"
   ]
  },
  {
   "cell_type": "markdown",
   "id": "3b38879c",
   "metadata": {},
   "source": [
    "#### Instanciar"
   ]
  },
  {
   "cell_type": "code",
   "execution_count": 67,
   "id": "4fe57c80",
   "metadata": {},
   "outputs": [],
   "source": [
    "oe = OrdinalEncoder(categories = [orden_antigüedad_empleo,orden_rating],\n",
    "                    handle_unknown = 'use_encoded_value',\n",
    "                    unknown_value = 12)"
   ]
  },
  {
   "cell_type": "markdown",
   "id": "0aeff907",
   "metadata": {},
   "source": [
    "#### Entrenar y aplicar"
   ]
  },
  {
   "cell_type": "code",
   "execution_count": 68,
   "id": "dbeafa81",
   "metadata": {},
   "outputs": [],
   "source": [
    "cat_oe = oe.fit_transform(cat[var_oe])"
   ]
  },
  {
   "cell_type": "markdown",
   "id": "df479d84",
   "metadata": {},
   "source": [
    "#### Guardar como dataframe"
   ]
  },
  {
   "cell_type": "code",
   "execution_count": 69,
   "id": "bd1db401",
   "metadata": {},
   "outputs": [],
   "source": [
    "#Añadir sufijos a los nombres\n",
    "nombres_oe = [variable + '_oe' for variable in var_oe]\n",
    "\n",
    "#Guardar como dataframe\n",
    "cat_oe = pd.DataFrame(cat_oe, columns = nombres_oe)"
   ]
  },
  {
   "cell_type": "markdown",
   "id": "a6d9a823",
   "metadata": {},
   "source": [
    "### Fechas y textos"
   ]
  },
  {
   "cell_type": "markdown",
   "id": "7f363f0d",
   "metadata": {},
   "source": [
    "Cargamos stopwords y limpiamos"
   ]
  },
  {
   "cell_type": "code",
   "execution_count": 70,
   "id": "4b97eb6d",
   "metadata": {},
   "outputs": [],
   "source": [
    "stop = pd.read_csv(ruta_proyecto + '/01_Documentos/stop_words_english.txt',names = ['termino'])\n",
    "\n",
    "def quitar_tildes(palabra):\n",
    "    #Definimos la versión con tildes y símbolos y la sin\n",
    "    con = 'áéíóúüñÁÉÍÓÚÜÑ'\n",
    "    sin = 'aeiouunAEIOUUN'\n",
    "    #Creamos un traductor\n",
    "    traductor = str.maketrans(con,sin)\n",
    "    #Aplicamos el traductor y devolvemos la palabra limpia\n",
    "    return(palabra.translate(traductor))\n",
    "\n",
    "stop['limpias'] = stop.termino.transform(quitar_tildes)"
   ]
  },
  {
   "cell_type": "markdown",
   "id": "e7089446",
   "metadata": {},
   "source": [
    "Aplicamos tf-idf."
   ]
  },
  {
   "cell_type": "code",
   "execution_count": 71,
   "id": "c558889e",
   "metadata": {},
   "outputs": [
    {
     "name": "stderr",
     "output_type": "stream",
     "text": [
      "C:\\Users\\Alex\\miniconda3\\envs\\proyecto1\\lib\\site-packages\\sklearn\\feature_extraction\\text.py:396: UserWarning: Your stop_words may be inconsistent with your preprocessing. Tokenizing the stop words generated tokens ['ain', 'al', 'couldn', 'daren', 'didn', 'doesn', 'hadn', 'hasn', 'haven', 'isn', 'itse', 'll', 'mayn', 'mightn', 'mon', 'mustn', 'myse', 'needn', 'oughtn', 'shan', 'shouldn', 've', 'wasn', 'weren', 'won', 'wouldn'] not in stop_words.\n",
      "  warnings.warn(\n"
     ]
    }
   ],
   "source": [
    "#Instanciamos\n",
    "tfidf = TfidfVectorizer(strip_accents = 'unicode',\n",
    "                     stop_words = stop.limpias.to_list(),\n",
    "                     max_df = 0.7,\n",
    "                     min_df = 50,\n",
    "                     ngram_range = (1,3),\n",
    "                     max_features = 50)\n",
    "\n",
    "#Entrenamos y aplicamos\n",
    "descripcion = tfidf.fit_transform(cat.descripcion)"
   ]
  },
  {
   "cell_type": "code",
   "execution_count": 72,
   "id": "125ada11",
   "metadata": {},
   "outputs": [
    {
     "data": {
      "text/plain": [
       "{'borrower': 15,\n",
       " '08': 7,\n",
       " '01': 0,\n",
       " '12': 11,\n",
       " 'br': 22,\n",
       " '02': 1,\n",
       " 'loan': 38,\n",
       " 'borrower 08': 20,\n",
       " 'br br': 24,\n",
       " 'br borrower': 23,\n",
       " 'br br borrower': 25,\n",
       " '07': 6,\n",
       " '13': 12,\n",
       " 'consolidate': 29,\n",
       " 'credit': 31,\n",
       " 'card': 26,\n",
       " 'years': 49,\n",
       " 'borrower 07': 19,\n",
       " 'credit card': 32,\n",
       " 'bills': 14,\n",
       " 'pay': 42,\n",
       " 'payments': 46,\n",
       " 'cards': 28,\n",
       " 'monthly': 41,\n",
       " 'paying': 44,\n",
       " 'debt': 35,\n",
       " 'rate': 47,\n",
       " 'credit cards': 34,\n",
       " 'borrower 12': 21,\n",
       " '11': 10,\n",
       " '09': 8,\n",
       " 'job': 37,\n",
       " 'time': 48,\n",
       " '10': 9,\n",
       " 'pay credit': 43,\n",
       " '03': 2,\n",
       " '14': 13,\n",
       " 'borrower 01': 16,\n",
       " '06': 5,\n",
       " 'high': 36,\n",
       " 'money': 39,\n",
       " 'payment': 45,\n",
       " '05': 4,\n",
       " 'month': 40,\n",
       " 'borrower 02': 17,\n",
       " 'consolidation': 30,\n",
       " 'borrower 03': 18,\n",
       " 'card debt': 27,\n",
       " 'credit card debt': 33,\n",
       " '04': 3}"
      ]
     },
     "execution_count": 72,
     "metadata": {},
     "output_type": "execute_result"
    }
   ],
   "source": [
    "tfidf.vocabulary_"
   ]
  },
  {
   "cell_type": "markdown",
   "id": "3185add4",
   "metadata": {},
   "source": [
    "No parece que estos términos puedan generar información adicional a lo que tenemos, así que no incluiremos esta variable en los modelos."
   ]
  },
  {
   "cell_type": "markdown",
   "id": "ec6bd31a",
   "metadata": {},
   "source": [
    "## TRANSFORMACIÓN DE NUMÉRICAS"
   ]
  },
  {
   "cell_type": "markdown",
   "id": "b5a4b948",
   "metadata": {},
   "source": [
    "### Binarizar variables"
   ]
  },
  {
   "cell_type": "markdown",
   "id": "3208cfd8",
   "metadata": {},
   "source": [
    "#### Variables a binarizar"
   ]
  },
  {
   "cell_type": "code",
   "execution_count": 73,
   "id": "a79b897c",
   "metadata": {},
   "outputs": [],
   "source": [
    "var_bin = ['num_derogatorios']"
   ]
  },
  {
   "cell_type": "markdown",
   "id": "9247e51a",
   "metadata": {},
   "source": [
    "#### Instanciar"
   ]
  },
  {
   "cell_type": "code",
   "execution_count": 74,
   "id": "2bcf7c5f",
   "metadata": {},
   "outputs": [],
   "source": [
    "bin = Binarizer(threshold=0)"
   ]
  },
  {
   "cell_type": "markdown",
   "id": "b4c17941",
   "metadata": {},
   "source": [
    "#### Entrenar y aplicar"
   ]
  },
  {
   "cell_type": "code",
   "execution_count": 75,
   "id": "087568ab",
   "metadata": {},
   "outputs": [],
   "source": [
    "num_bin = bin.fit_transform(num[var_bin])"
   ]
  },
  {
   "cell_type": "markdown",
   "id": "52401fa6",
   "metadata": {},
   "source": [
    "#### Guardar como dataframe"
   ]
  },
  {
   "cell_type": "code",
   "execution_count": 76,
   "id": "990bab10",
   "metadata": {},
   "outputs": [],
   "source": [
    "#Añadir sufijos a los nombres\n",
    "nombres_bin = [variable + '_bin' for variable in var_bin]\n",
    "\n",
    "#Guardar como dataframe\n",
    "num_bin = pd.DataFrame(num_bin,columns = nombres_bin)"
   ]
  },
  {
   "cell_type": "markdown",
   "id": "5f9ffae2",
   "metadata": {},
   "source": [
    "## REESCALAR VARIABLES"
   ]
  },
  {
   "cell_type": "markdown",
   "id": "fbc62831",
   "metadata": {},
   "source": [
    "### Con Min-Max"
   ]
  },
  {
   "cell_type": "markdown",
   "id": "b8aa2aa7",
   "metadata": {},
   "source": [
    "Unificar los datasets a reescalar."
   ]
  },
  {
   "cell_type": "code",
   "execution_count": 80,
   "id": "805b5634",
   "metadata": {},
   "outputs": [],
   "source": [
    "num_escalar = num[['ingresos',\n",
    "                  'dti',\n",
    "                  'num_lineas_credito',\n",
    "                  'porc_uso_revolving',\n",
    "                  'principal',\n",
    "                  'tipo_interes',\n",
    "                  'imp_cuota']].reset_index(drop=True)"
   ]
  },
  {
   "cell_type": "code",
   "execution_count": 81,
   "id": "68898fb9",
   "metadata": {},
   "outputs": [],
   "source": [
    "df_res = pd.concat([cat_oe,num_escalar], axis=1)"
   ]
  },
  {
   "cell_type": "markdown",
   "id": "de92d3fe",
   "metadata": {},
   "source": [
    "#### Variables a reescalar con Min-Max"
   ]
  },
  {
   "cell_type": "code",
   "execution_count": 82,
   "id": "4c9e40ba",
   "metadata": {},
   "outputs": [],
   "source": [
    "var_mms = df_res.columns"
   ]
  },
  {
   "cell_type": "markdown",
   "id": "b0b18ca7",
   "metadata": {},
   "source": [
    "#### Instanciar"
   ]
  },
  {
   "cell_type": "code",
   "execution_count": 83,
   "id": "44a71f10",
   "metadata": {},
   "outputs": [],
   "source": [
    "mms = MinMaxScaler()"
   ]
  },
  {
   "cell_type": "markdown",
   "id": "57f8f537",
   "metadata": {},
   "source": [
    "#### Entrenar y aplicar"
   ]
  },
  {
   "cell_type": "code",
   "execution_count": 84,
   "id": "b45d4fa8",
   "metadata": {},
   "outputs": [],
   "source": [
    "df_mms = mms.fit_transform(df_res[var_mms])"
   ]
  },
  {
   "cell_type": "markdown",
   "id": "aea83d81",
   "metadata": {},
   "source": [
    "#### Guardar como dataframe"
   ]
  },
  {
   "cell_type": "code",
   "execution_count": 85,
   "id": "d5ba3f86",
   "metadata": {},
   "outputs": [],
   "source": [
    "#Añadir sufijos a los nombres\n",
    "nombres_mms = [variable + '_mms' for variable in var_mms]\n",
    "\n",
    "#Guardar como dataframe\n",
    "df_mms = pd.DataFrame(df_mms,columns = nombres_mms)"
   ]
  },
  {
   "cell_type": "markdown",
   "id": "118dac36",
   "metadata": {},
   "source": [
    "## UNIFICAR DATASETS"
   ]
  },
  {
   "cell_type": "markdown",
   "id": "e301d458",
   "metadata": {},
   "source": [
    "### Crear una lista con los dataframes y variables a incluir en el tablón analítico para el modelo de PD"
   ]
  },
  {
   "cell_type": "code",
   "execution_count": 86,
   "id": "4e51c41f",
   "metadata": {},
   "outputs": [],
   "source": [
    "incluir_pd = [cat_ohe, cat_oe, df_mms, num_bin, cat.reset_index()[['id_cliente','target_pd']]]"
   ]
  },
  {
   "cell_type": "markdown",
   "id": "4412d913",
   "metadata": {},
   "source": [
    "### Unir todos los dataframes en el tablón analítico para el modelo de PD"
   ]
  },
  {
   "cell_type": "code",
   "execution_count": 87,
   "id": "bbacffcc",
   "metadata": {},
   "outputs": [],
   "source": [
    "df_pd = pd.concat(incluir_pd, axis = 1)"
   ]
  },
  {
   "cell_type": "code",
   "execution_count": 88,
   "id": "36a63d9c",
   "metadata": {},
   "outputs": [],
   "source": [
    "df_pd.set_index('id_cliente',inplace=True)"
   ]
  },
  {
   "cell_type": "markdown",
   "id": "d984efe9",
   "metadata": {},
   "source": [
    "### Crear una lista con los dataframes y variables a incluir en el tablón analítico para el modelo de EAD"
   ]
  },
  {
   "cell_type": "code",
   "execution_count": 89,
   "id": "02802ca1",
   "metadata": {},
   "outputs": [],
   "source": [
    "incluir_ead = [cat_ohe, cat_oe, df_mms, num_bin, num.reset_index()[['id_cliente','target_ead']]]"
   ]
  },
  {
   "cell_type": "markdown",
   "id": "281ef7f5",
   "metadata": {},
   "source": [
    "### Unir todos los dataframes en el tablón analítico para el modelo de EAD"
   ]
  },
  {
   "cell_type": "code",
   "execution_count": 90,
   "id": "2c6d00d5",
   "metadata": {},
   "outputs": [],
   "source": [
    "df_ead = pd.concat(incluir_ead, axis = 1)"
   ]
  },
  {
   "cell_type": "code",
   "execution_count": 91,
   "id": "84a43525",
   "metadata": {},
   "outputs": [],
   "source": [
    "df_ead.set_index('id_cliente',inplace=True)"
   ]
  },
  {
   "cell_type": "markdown",
   "id": "b73057a2",
   "metadata": {},
   "source": [
    "### Crear una lista con los dataframes y variables a incluir en el tablón analítico para el modelo de LGD"
   ]
  },
  {
   "cell_type": "code",
   "execution_count": 92,
   "id": "423363fa",
   "metadata": {},
   "outputs": [],
   "source": [
    "incluir_lgd = [cat_ohe, cat_oe, df_mms, num_bin, num.reset_index()[['id_cliente','target_lgd']]]"
   ]
  },
  {
   "cell_type": "markdown",
   "id": "eaa0cd9b",
   "metadata": {},
   "source": [
    "### Unir todos los dataframes en el tablón analítico para el modelo de LGD"
   ]
  },
  {
   "cell_type": "code",
   "execution_count": 93,
   "id": "524ec4a9",
   "metadata": {},
   "outputs": [],
   "source": [
    "df_lgd = pd.concat(incluir_lgd, axis = 1)"
   ]
  },
  {
   "cell_type": "code",
   "execution_count": 94,
   "id": "2d5df340",
   "metadata": {},
   "outputs": [],
   "source": [
    "df_lgd.set_index('id_cliente',inplace=True)"
   ]
  },
  {
   "cell_type": "markdown",
   "id": "9f098f8a",
   "metadata": {},
   "source": [
    "## GUARDAR DATASETS TRAS TRANSFORMACIÓN DE DATOS"
   ]
  },
  {
   "cell_type": "markdown",
   "id": "7656ba95",
   "metadata": {},
   "source": [
    "En formato pickle para no perder las modificaciones de metadatos."
   ]
  },
  {
   "cell_type": "code",
   "execution_count": 95,
   "id": "782bf43c",
   "metadata": {},
   "outputs": [],
   "source": [
    "#Definir los nombres de los archivos\n",
    "ruta_df_tablon_pd = ruta_proyecto + '/02_Datos/03_Trabajo/' + 'df_tablon_pd.pickle'\n",
    "ruta_df_tablon_ead = ruta_proyecto + '/02_Datos/03_Trabajo/' + 'df_tablon_ead.pickle'\n",
    "ruta_df_tablon_lgd = ruta_proyecto + '/02_Datos/03_Trabajo/' + 'df_tablon_lgd.pickle'"
   ]
  },
  {
   "cell_type": "code",
   "execution_count": 96,
   "id": "44c7dd60",
   "metadata": {},
   "outputs": [],
   "source": [
    "#Guardar los archivos\n",
    "df_pd.to_pickle(ruta_df_tablon_pd)\n",
    "df_ead.to_pickle(ruta_df_tablon_ead)\n",
    "df_lgd.to_pickle(ruta_df_tablon_lgd)"
   ]
  }
 ],
 "metadata": {
  "kernelspec": {
   "display_name": "Python 3 (ipykernel)",
   "language": "python",
   "name": "python3"
  },
  "language_info": {
   "codemirror_mode": {
    "name": "ipython",
    "version": 3
   },
   "file_extension": ".py",
   "mimetype": "text/x-python",
   "name": "python",
   "nbconvert_exporter": "python",
   "pygments_lexer": "ipython3",
   "version": "3.8.10"
  },
  "toc": {
   "base_numbering": 1,
   "nav_menu": {},
   "number_sections": true,
   "sideBar": true,
   "skip_h1_title": false,
   "title_cell": "Table of Contents",
   "title_sidebar": "Contents",
   "toc_cell": false,
   "toc_position": {
    "height": "calc(100% - 180px)",
    "left": "10px",
    "top": "150px",
    "width": "394.617px"
   },
   "toc_section_display": true,
   "toc_window_display": false
  },
  "varInspector": {
   "cols": {
    "lenName": 16,
    "lenType": 16,
    "lenVar": 40
   },
   "kernels_config": {
    "python": {
     "delete_cmd_postfix": "",
     "delete_cmd_prefix": "del ",
     "library": "var_list.py",
     "varRefreshCmd": "print(var_dic_list())"
    },
    "r": {
     "delete_cmd_postfix": ") ",
     "delete_cmd_prefix": "rm(",
     "library": "var_list.r",
     "varRefreshCmd": "cat(var_dic_list()) "
    }
   },
   "position": {
    "height": "546.85px",
    "left": "812.75px",
    "right": "20px",
    "top": "102px",
    "width": "350px"
   },
   "types_to_exclude": [
    "module",
    "function",
    "builtin_function_or_method",
    "instance",
    "_Feature"
   ],
   "window_display": false
  }
 },
 "nbformat": 4,
 "nbformat_minor": 5
}
